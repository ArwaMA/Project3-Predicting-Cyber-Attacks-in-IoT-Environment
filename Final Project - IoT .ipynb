{
 "cells": [
  {
   "cell_type": "markdown",
   "metadata": {},
   "source": [
    "# Predicting Cyber-Attacks in IoT Environment\n",
    "\n",
    "Created by Arwa Alamoudi\n",
    "\n",
    "---\n",
    "\n",
    "### Document Sections\n",
    "\n",
    "- [Exploratory Data Analysis](#exploratory-data-analysis)\n",
    "    - [Description of Dataset Features](#description-of-features)\n",
    "    - [Types of Operatios](#operations)\n",
    "- [Data Preprocessing](#data-preprocessing)\n",
    "- [Data Cleaning & Feature Engineering](#dc_fe)\n",
    "- [Resampling](#resampling)\n",
    "- [Modelling, Feature Selection, and Evaluation](#modeling-evlauation)\n",
    "\n"
   ]
  },
  {
   "cell_type": "markdown",
   "metadata": {},
   "source": [
    "---"
   ]
  },
  {
   "cell_type": "code",
   "execution_count": null,
   "metadata": {},
   "outputs": [],
   "source": [
    "# Load needed packages into Python\n",
    "import numpy as np\n",
    "import pandas as pd\n",
    "import seaborn as sns\n",
    "import matplotlib.pyplot as plt\n",
    "plt.style.use('fivethirtyeight')\n",
    "%matplotlib inline"
   ]
  },
  {
   "cell_type": "code",
   "execution_count": 2,
   "metadata": {},
   "outputs": [],
   "source": [
    "# Read dataset\n",
    "iot = pd.read_csv('./Dataset/mainSimulationAccessTraces.csv')"
   ]
  },
  {
   "cell_type": "markdown",
   "metadata": {},
   "source": [
    "---"
   ]
  },
  {
   "cell_type": "markdown",
   "metadata": {},
   "source": [
    "<a id=\"exploratory-data-analysis\"></a>\n",
    "## Exploratory Data Analysis\n",
    "\n",
    "This section explores the dataset, its features, their values, and the target column to get better insight about the dataset."
   ]
  },
  {
   "cell_type": "code",
   "execution_count": 3,
   "metadata": {},
   "outputs": [
    {
     "data": {
      "text/plain": [
       "(357952, 13)"
      ]
     },
     "execution_count": 3,
     "metadata": {},
     "output_type": "execute_result"
    }
   ],
   "source": [
    "# Dataset dimention\n",
    "iot.shape"
   ]
  },
  {
   "cell_type": "code",
   "execution_count": 4,
   "metadata": {},
   "outputs": [
    {
     "data": {
      "text/html": [
       "<div>\n",
       "<style scoped>\n",
       "    .dataframe tbody tr th:only-of-type {\n",
       "        vertical-align: middle;\n",
       "    }\n",
       "\n",
       "    .dataframe tbody tr th {\n",
       "        vertical-align: top;\n",
       "    }\n",
       "\n",
       "    .dataframe thead th {\n",
       "        text-align: right;\n",
       "    }\n",
       "</style>\n",
       "<table border=\"1\" class=\"dataframe\">\n",
       "  <thead>\n",
       "    <tr style=\"text-align: right;\">\n",
       "      <th></th>\n",
       "      <th>sourceID</th>\n",
       "      <th>sourceAddress</th>\n",
       "      <th>sourceType</th>\n",
       "      <th>sourceLocation</th>\n",
       "      <th>destinationServiceAddress</th>\n",
       "      <th>destinationServiceType</th>\n",
       "      <th>destinationLocation</th>\n",
       "      <th>accessedNodeAddress</th>\n",
       "      <th>accessedNodeType</th>\n",
       "      <th>operation</th>\n",
       "      <th>value</th>\n",
       "      <th>timestamp</th>\n",
       "      <th>normality</th>\n",
       "    </tr>\n",
       "  </thead>\n",
       "  <tbody>\n",
       "    <tr>\n",
       "      <th>0</th>\n",
       "      <td>lightcontrol2</td>\n",
       "      <td>/agent2/lightcontrol2</td>\n",
       "      <td>/lightControler</td>\n",
       "      <td>BedroomParents</td>\n",
       "      <td>/agent2/lightcontrol2</td>\n",
       "      <td>/lightControler</td>\n",
       "      <td>BedroomParents</td>\n",
       "      <td>/agent2/lightcontrol2</td>\n",
       "      <td>/lightControler</td>\n",
       "      <td>registerService</td>\n",
       "      <td>none</td>\n",
       "      <td>1520031600000</td>\n",
       "      <td>normal</td>\n",
       "    </tr>\n",
       "    <tr>\n",
       "      <th>1</th>\n",
       "      <td>lightcontrol3</td>\n",
       "      <td>/agent3/lightcontrol3</td>\n",
       "      <td>/lightControler</td>\n",
       "      <td>Dinningroom</td>\n",
       "      <td>/agent3/lightcontrol3</td>\n",
       "      <td>/lightControler</td>\n",
       "      <td>Dinningroom</td>\n",
       "      <td>/agent3/lightcontrol3</td>\n",
       "      <td>/lightControler</td>\n",
       "      <td>registerService</td>\n",
       "      <td>none</td>\n",
       "      <td>1520031603269</td>\n",
       "      <td>normal</td>\n",
       "    </tr>\n",
       "    <tr>\n",
       "      <th>2</th>\n",
       "      <td>lightcontrol1</td>\n",
       "      <td>/agent1/lightcontrol1</td>\n",
       "      <td>/lightControler</td>\n",
       "      <td>BedroomChildren</td>\n",
       "      <td>/agent1/lightcontrol1</td>\n",
       "      <td>/lightControler</td>\n",
       "      <td>BedroomChildren</td>\n",
       "      <td>/agent1/lightcontrol1</td>\n",
       "      <td>/lightControler</td>\n",
       "      <td>registerService</td>\n",
       "      <td>none</td>\n",
       "      <td>1520031603279</td>\n",
       "      <td>normal</td>\n",
       "    </tr>\n",
       "  </tbody>\n",
       "</table>\n",
       "</div>"
      ],
      "text/plain": [
       "        sourceID          sourceAddress       sourceType   sourceLocation  \\\n",
       "0  lightcontrol2  /agent2/lightcontrol2  /lightControler   BedroomParents   \n",
       "1  lightcontrol3  /agent3/lightcontrol3  /lightControler      Dinningroom   \n",
       "2  lightcontrol1  /agent1/lightcontrol1  /lightControler  BedroomChildren   \n",
       "\n",
       "  destinationServiceAddress destinationServiceType destinationLocation  \\\n",
       "0     /agent2/lightcontrol2        /lightControler      BedroomParents   \n",
       "1     /agent3/lightcontrol3        /lightControler         Dinningroom   \n",
       "2     /agent1/lightcontrol1        /lightControler     BedroomChildren   \n",
       "\n",
       "     accessedNodeAddress accessedNodeType        operation value  \\\n",
       "0  /agent2/lightcontrol2  /lightControler  registerService  none   \n",
       "1  /agent3/lightcontrol3  /lightControler  registerService  none   \n",
       "2  /agent1/lightcontrol1  /lightControler  registerService  none   \n",
       "\n",
       "       timestamp normality  \n",
       "0  1520031600000    normal  \n",
       "1  1520031603269    normal  \n",
       "2  1520031603279    normal  "
      ]
     },
     "execution_count": 4,
     "metadata": {},
     "output_type": "execute_result"
    }
   ],
   "source": [
    "# Sample of the first 3 rows\n",
    "iot.head(3)"
   ]
  },
  {
   "cell_type": "markdown",
   "metadata": {},
   "source": [
    "This dataset contains information (connections) gathered from 84 IoT devices spread across 21 rooms over 4 sites as shown below:\n",
    "\n",
    "Site|# of Rooms |Washing Machine|Battery|Thermostat|Smart Door|Smart Phone|Light Controller|Movement Sensor|Thermometer\n",
    "---| ---| ---| ---| ---| ---| ---| ---| ---| ---\n",
    "House |6|1|3|1|1|1|6|6|6|\n",
    "2 Rooms Flat |2|1|1|1|1|1|2|2|2\n",
    "3 Rooms Flat |3|1|2|1|1|1|3|3|3\n",
    "Office |10|0|0|1|2|0|10|10|10\n",
    "Total |21|3|6|4|5|3|21|21|21\n"
   ]
  },
  {
   "cell_type": "code",
   "execution_count": 5,
   "metadata": {
    "scrolled": true
   },
   "outputs": [
    {
     "name": "stdout",
     "output_type": "stream",
     "text": [
      "<class 'pandas.core.frame.DataFrame'>\n",
      "RangeIndex: 357952 entries, 0 to 357951\n",
      "Data columns (total 13 columns):\n",
      " #   Column                     Non-Null Count   Dtype \n",
      "---  ------                     --------------   ----- \n",
      " 0   sourceID                   357952 non-null  object\n",
      " 1   sourceAddress              357952 non-null  object\n",
      " 2   sourceType                 357952 non-null  object\n",
      " 3   sourceLocation             357952 non-null  object\n",
      " 4   destinationServiceAddress  357952 non-null  object\n",
      " 5   destinationServiceType     357952 non-null  object\n",
      " 6   destinationLocation        357952 non-null  object\n",
      " 7   accessedNodeAddress        357952 non-null  object\n",
      " 8   accessedNodeType           357804 non-null  object\n",
      " 9   operation                  357952 non-null  object\n",
      " 10  value                      355902 non-null  object\n",
      " 11  timestamp                  357952 non-null  int64 \n",
      " 12  normality                  357952 non-null  object\n",
      "dtypes: int64(1), object(12)\n",
      "memory usage: 35.5+ MB\n"
     ]
    }
   ],
   "source": [
    "# Explore columns names and types\n",
    "iot.info()"
   ]
  },
  {
   "cell_type": "markdown",
   "metadata": {},
   "source": [
    "So, we only have one numerical variables in the dataset which represnts timestamps of the connections in Unix time.\n",
    "\n",
    "<a id=\"description-of-features\"></a>\n",
    "**Description of dataset features:**\n",
    "\n",
    "1. Source ID: a unique identifier of the source service (device).\n",
    "2. Source Address: the address of the service from which originates the access.\n",
    "3. Source Type: the type of the source service.\n",
    "4. Source Location: the room in which the source service exists.\n",
    "5. Destination Service Address: the address of the destination service.\n",
    "6. Destination Service Type: the type of the destination service.\n",
    "7. Destination Location: the room in which the destination service exists.\n",
    "8. Accessed Node Address: the address of the accessed service (equivalent to destination service address).\n",
    "9. Accessed Node Type: the type of the accessed data service in the data of the destination service.\n",
    "10. Operation: the operation performed between source service and destination service.\n",
    "11. Value: the value that gets exchange between source service and destination service.\n",
    "12. Timestamp: a value that represents a timing in which the operation was performed.\n",
    "13. Normality: the nature of the traffic if it’s normal or not with a detail of the type of attack.\n",
    "\n",
    "Since most of the features are categorical, let's focus on exploring them more."
   ]
  },
  {
   "cell_type": "code",
   "execution_count": 6,
   "metadata": {},
   "outputs": [
    {
     "data": {
      "text/html": [
       "<div>\n",
       "<style scoped>\n",
       "    .dataframe tbody tr th:only-of-type {\n",
       "        vertical-align: middle;\n",
       "    }\n",
       "\n",
       "    .dataframe tbody tr th {\n",
       "        vertical-align: top;\n",
       "    }\n",
       "\n",
       "    .dataframe thead th {\n",
       "        text-align: right;\n",
       "    }\n",
       "</style>\n",
       "<table border=\"1\" class=\"dataframe\">\n",
       "  <thead>\n",
       "    <tr style=\"text-align: right;\">\n",
       "      <th></th>\n",
       "      <th>dtype</th>\n",
       "      <th>number of unique</th>\n",
       "      <th>% unique</th>\n",
       "    </tr>\n",
       "  </thead>\n",
       "  <tbody>\n",
       "    <tr>\n",
       "      <th>operation</th>\n",
       "      <td>object</td>\n",
       "      <td>5</td>\n",
       "      <td>0.001397</td>\n",
       "    </tr>\n",
       "    <tr>\n",
       "      <th>destinationServiceType</th>\n",
       "      <td>object</td>\n",
       "      <td>8</td>\n",
       "      <td>0.002235</td>\n",
       "    </tr>\n",
       "    <tr>\n",
       "      <th>normality</th>\n",
       "      <td>object</td>\n",
       "      <td>8</td>\n",
       "      <td>0.002235</td>\n",
       "    </tr>\n",
       "    <tr>\n",
       "      <th>sourceType</th>\n",
       "      <td>object</td>\n",
       "      <td>8</td>\n",
       "      <td>0.002235</td>\n",
       "    </tr>\n",
       "    <tr>\n",
       "      <th>accessedNodeType</th>\n",
       "      <td>object</td>\n",
       "      <td>12</td>\n",
       "      <td>0.003352</td>\n",
       "    </tr>\n",
       "    <tr>\n",
       "      <th>destinationLocation</th>\n",
       "      <td>object</td>\n",
       "      <td>21</td>\n",
       "      <td>0.005867</td>\n",
       "    </tr>\n",
       "    <tr>\n",
       "      <th>sourceLocation</th>\n",
       "      <td>object</td>\n",
       "      <td>21</td>\n",
       "      <td>0.005867</td>\n",
       "    </tr>\n",
       "    <tr>\n",
       "      <th>sourceID</th>\n",
       "      <td>object</td>\n",
       "      <td>84</td>\n",
       "      <td>0.023467</td>\n",
       "    </tr>\n",
       "    <tr>\n",
       "      <th>destinationServiceAddress</th>\n",
       "      <td>object</td>\n",
       "      <td>85</td>\n",
       "      <td>0.023746</td>\n",
       "    </tr>\n",
       "    <tr>\n",
       "      <th>sourceAddress</th>\n",
       "      <td>object</td>\n",
       "      <td>89</td>\n",
       "      <td>0.024864</td>\n",
       "    </tr>\n",
       "    <tr>\n",
       "      <th>accessedNodeAddress</th>\n",
       "      <td>object</td>\n",
       "      <td>170</td>\n",
       "      <td>0.047492</td>\n",
       "    </tr>\n",
       "    <tr>\n",
       "      <th>value</th>\n",
       "      <td>object</td>\n",
       "      <td>10623</td>\n",
       "      <td>2.967716</td>\n",
       "    </tr>\n",
       "    <tr>\n",
       "      <th>timestamp</th>\n",
       "      <td>int64</td>\n",
       "      <td>327811</td>\n",
       "      <td>91.579597</td>\n",
       "    </tr>\n",
       "  </tbody>\n",
       "</table>\n",
       "</div>"
      ],
      "text/plain": [
       "                            dtype  number of unique   % unique\n",
       "operation                  object                 5   0.001397\n",
       "destinationServiceType     object                 8   0.002235\n",
       "normality                  object                 8   0.002235\n",
       "sourceType                 object                 8   0.002235\n",
       "accessedNodeType           object                12   0.003352\n",
       "destinationLocation        object                21   0.005867\n",
       "sourceLocation             object                21   0.005867\n",
       "sourceID                   object                84   0.023467\n",
       "destinationServiceAddress  object                85   0.023746\n",
       "sourceAddress              object                89   0.024864\n",
       "accessedNodeAddress        object               170   0.047492\n",
       "value                      object             10623   2.967716\n",
       "timestamp                   int64            327811  91.579597"
      ]
     },
     "execution_count": 6,
     "metadata": {},
     "output_type": "execute_result"
    }
   ],
   "source": [
    "# Check the number & percentage of unique values in each feature\n",
    "frame = pd.concat([iot.dtypes, iot.nunique(), (iot.nunique()/len(iot)*100)], sort=True, axis=1)\n",
    "frame.columns = ['dtype', 'number of unique', '% unique']\n",
    "frame.sort_values(by='number of unique')"
   ]
  },
  {
   "cell_type": "code",
   "execution_count": 7,
   "metadata": {},
   "outputs": [
    {
     "data": {
      "text/html": [
       "<div>\n",
       "<style scoped>\n",
       "    .dataframe tbody tr th:only-of-type {\n",
       "        vertical-align: middle;\n",
       "    }\n",
       "\n",
       "    .dataframe tbody tr th {\n",
       "        vertical-align: top;\n",
       "    }\n",
       "\n",
       "    .dataframe thead th {\n",
       "        text-align: right;\n",
       "    }\n",
       "</style>\n",
       "<table border=\"1\" class=\"dataframe\">\n",
       "  <thead>\n",
       "    <tr style=\"text-align: right;\">\n",
       "      <th></th>\n",
       "      <th>sourceID</th>\n",
       "      <th>sourceAddress</th>\n",
       "      <th>sourceType</th>\n",
       "      <th>sourceLocation</th>\n",
       "      <th>destinationServiceAddress</th>\n",
       "      <th>destinationServiceType</th>\n",
       "      <th>destinationLocation</th>\n",
       "      <th>accessedNodeAddress</th>\n",
       "      <th>accessedNodeType</th>\n",
       "      <th>operation</th>\n",
       "      <th>value</th>\n",
       "      <th>normality</th>\n",
       "    </tr>\n",
       "  </thead>\n",
       "  <tbody>\n",
       "    <tr>\n",
       "      <th>count</th>\n",
       "      <td>357952</td>\n",
       "      <td>357952</td>\n",
       "      <td>357952</td>\n",
       "      <td>357952</td>\n",
       "      <td>357952</td>\n",
       "      <td>357952</td>\n",
       "      <td>357952</td>\n",
       "      <td>357952</td>\n",
       "      <td>357804</td>\n",
       "      <td>357952</td>\n",
       "      <td>355902</td>\n",
       "      <td>357952</td>\n",
       "    </tr>\n",
       "    <tr>\n",
       "      <th>unique</th>\n",
       "      <td>84</td>\n",
       "      <td>89</td>\n",
       "      <td>8</td>\n",
       "      <td>21</td>\n",
       "      <td>85</td>\n",
       "      <td>8</td>\n",
       "      <td>21</td>\n",
       "      <td>170</td>\n",
       "      <td>12</td>\n",
       "      <td>5</td>\n",
       "      <td>10623</td>\n",
       "      <td>8</td>\n",
       "    </tr>\n",
       "    <tr>\n",
       "      <th>top</th>\n",
       "      <td>washingmachine1</td>\n",
       "      <td>/agent6/washingmachine1</td>\n",
       "      <td>/lightControler</td>\n",
       "      <td>Garage</td>\n",
       "      <td>/agent11/battery4</td>\n",
       "      <td>/sensorService</td>\n",
       "      <td>Garage</td>\n",
       "      <td>/agent11/battery4/charge</td>\n",
       "      <td>/sensorService</td>\n",
       "      <td>read</td>\n",
       "      <td>1</td>\n",
       "      <td>normal</td>\n",
       "    </tr>\n",
       "    <tr>\n",
       "      <th>freq</th>\n",
       "      <td>17908</td>\n",
       "      <td>17908</td>\n",
       "      <td>135775</td>\n",
       "      <td>39501</td>\n",
       "      <td>27644</td>\n",
       "      <td>130313</td>\n",
       "      <td>57102</td>\n",
       "      <td>19032</td>\n",
       "      <td>130155</td>\n",
       "      <td>248061</td>\n",
       "      <td>57047</td>\n",
       "      <td>347935</td>\n",
       "    </tr>\n",
       "  </tbody>\n",
       "</table>\n",
       "</div>"
      ],
      "text/plain": [
       "               sourceID            sourceAddress       sourceType  \\\n",
       "count            357952                   357952           357952   \n",
       "unique               84                       89                8   \n",
       "top     washingmachine1  /agent6/washingmachine1  /lightControler   \n",
       "freq              17908                    17908           135775   \n",
       "\n",
       "       sourceLocation destinationServiceAddress destinationServiceType  \\\n",
       "count          357952                    357952                 357952   \n",
       "unique             21                        85                      8   \n",
       "top            Garage         /agent11/battery4         /sensorService   \n",
       "freq            39501                     27644                 130313   \n",
       "\n",
       "       destinationLocation       accessedNodeAddress accessedNodeType  \\\n",
       "count               357952                    357952           357804   \n",
       "unique                  21                       170               12   \n",
       "top                 Garage  /agent11/battery4/charge   /sensorService   \n",
       "freq                 57102                     19032           130155   \n",
       "\n",
       "       operation   value normality  \n",
       "count     357952  355902    357952  \n",
       "unique         5   10623         8  \n",
       "top         read       1    normal  \n",
       "freq      248061   57047    347935  "
      ]
     },
     "execution_count": 7,
     "metadata": {},
     "output_type": "execute_result"
    }
   ],
   "source": [
    "# Describe all objects columns \n",
    "iot.describe(include=[np.object])"
   ]
  },
  {
   "cell_type": "markdown",
   "metadata": {},
   "source": [
    "Let's explore the distribution of the values in some features; the ones with the most uniques values. Some of the features presented in a table rather than a chart as the distribution of the values is imbalanced which makes the graph hard to read."
   ]
  },
  {
   "cell_type": "code",
   "execution_count": 8,
   "metadata": {},
   "outputs": [
    {
     "data": {
      "text/html": [
       "<div>\n",
       "<style scoped>\n",
       "    .dataframe tbody tr th:only-of-type {\n",
       "        vertical-align: middle;\n",
       "    }\n",
       "\n",
       "    .dataframe tbody tr th {\n",
       "        vertical-align: top;\n",
       "    }\n",
       "\n",
       "    .dataframe thead th {\n",
       "        text-align: right;\n",
       "    }\n",
       "</style>\n",
       "<table border=\"1\" class=\"dataframe\">\n",
       "  <thead>\n",
       "    <tr style=\"text-align: right;\">\n",
       "      <th></th>\n",
       "      <th>Count</th>\n",
       "      <th>Relative Freq.</th>\n",
       "    </tr>\n",
       "  </thead>\n",
       "  <tbody>\n",
       "    <tr>\n",
       "      <th>read</th>\n",
       "      <td>248061</td>\n",
       "      <td>69.300074</td>\n",
       "    </tr>\n",
       "    <tr>\n",
       "      <th>write</th>\n",
       "      <td>109648</td>\n",
       "      <td>30.632040</td>\n",
       "    </tr>\n",
       "    <tr>\n",
       "      <th>lockSubtree</th>\n",
       "      <td>148</td>\n",
       "      <td>0.041346</td>\n",
       "    </tr>\n",
       "    <tr>\n",
       "      <th>registerService</th>\n",
       "      <td>84</td>\n",
       "      <td>0.023467</td>\n",
       "    </tr>\n",
       "    <tr>\n",
       "      <th>subscribe</th>\n",
       "      <td>11</td>\n",
       "      <td>0.003073</td>\n",
       "    </tr>\n",
       "  </tbody>\n",
       "</table>\n",
       "</div>"
      ],
      "text/plain": [
       "                  Count  Relative Freq.\n",
       "read             248061       69.300074\n",
       "write            109648       30.632040\n",
       "lockSubtree         148        0.041346\n",
       "registerService      84        0.023467\n",
       "subscribe            11        0.003073"
      ]
     },
     "execution_count": 8,
     "metadata": {},
     "output_type": "execute_result"
    }
   ],
   "source": [
    "# Explore the distribution of operation \n",
    "operation_frq = pd.value_counts(iot.operation).to_frame()\n",
    "operation = pd.concat([operation_frq, (operation_frq/iot.operation.count()*100)], axis=1)\n",
    "operation.columns = ['Count', 'Relative Freq.']\n",
    "operation"
   ]
  },
  {
   "cell_type": "markdown",
   "metadata": {},
   "source": [
    "<a id=\"operations\"></a>\n",
    "**Types of Operations:**\n",
    "\n",
    "1. Read: when an IoT device (the source) **reads** a value from another IoT device (the destination).\n",
    "2. Write: when an IoT device (the source) **writes** a value in another IoT device (the destination).\n",
    "   All the features can do both operations.\n",
    "3. Lock Subtree: when an IoT device **locks** the whole subtrees of the accessed node.\n",
    "4. Register Service: when an IoT service is **created**.\n",
    "5. Subscribe: when an IoT device **subscribes** to another IoT device."
   ]
  },
  {
   "cell_type": "code",
   "execution_count": 9,
   "metadata": {},
   "outputs": [
    {
     "data": {
      "text/html": [
       "<div>\n",
       "<style scoped>\n",
       "    .dataframe tbody tr th:only-of-type {\n",
       "        vertical-align: middle;\n",
       "    }\n",
       "\n",
       "    .dataframe tbody tr th {\n",
       "        vertical-align: top;\n",
       "    }\n",
       "\n",
       "    .dataframe thead th {\n",
       "        text-align: right;\n",
       "    }\n",
       "</style>\n",
       "<table border=\"1\" class=\"dataframe\">\n",
       "  <thead>\n",
       "    <tr style=\"text-align: right;\">\n",
       "      <th></th>\n",
       "      <th>Count</th>\n",
       "      <th>Relative Freq.</th>\n",
       "    </tr>\n",
       "  </thead>\n",
       "  <tbody>\n",
       "    <tr>\n",
       "      <th>/lightControler</th>\n",
       "      <td>135775</td>\n",
       "      <td>37.931063</td>\n",
       "    </tr>\n",
       "    <tr>\n",
       "      <th>/sensorService</th>\n",
       "      <td>85196</td>\n",
       "      <td>23.800957</td>\n",
       "    </tr>\n",
       "    <tr>\n",
       "      <th>/batteryService</th>\n",
       "      <td>81273</td>\n",
       "      <td>22.705000</td>\n",
       "    </tr>\n",
       "    <tr>\n",
       "      <th>/washingService</th>\n",
       "      <td>47986</td>\n",
       "      <td>13.405708</td>\n",
       "    </tr>\n",
       "    <tr>\n",
       "      <th>/thermostat</th>\n",
       "      <td>5980</td>\n",
       "      <td>1.670615</td>\n",
       "    </tr>\n",
       "    <tr>\n",
       "      <th>/movementSensor</th>\n",
       "      <td>1301</td>\n",
       "      <td>0.363457</td>\n",
       "    </tr>\n",
       "    <tr>\n",
       "      <th>/doorLockService</th>\n",
       "      <td>335</td>\n",
       "      <td>0.093588</td>\n",
       "    </tr>\n",
       "    <tr>\n",
       "      <th>/smartPhone</th>\n",
       "      <td>106</td>\n",
       "      <td>0.029613</td>\n",
       "    </tr>\n",
       "  </tbody>\n",
       "</table>\n",
       "</div>"
      ],
      "text/plain": [
       "                   Count  Relative Freq.\n",
       "/lightControler   135775       37.931063\n",
       "/sensorService     85196       23.800957\n",
       "/batteryService    81273       22.705000\n",
       "/washingService    47986       13.405708\n",
       "/thermostat         5980        1.670615\n",
       "/movementSensor     1301        0.363457\n",
       "/doorLockService     335        0.093588\n",
       "/smartPhone          106        0.029613"
      ]
     },
     "execution_count": 9,
     "metadata": {},
     "output_type": "execute_result"
    }
   ],
   "source": [
    "# Explore the distribution of source type\n",
    "sourceType_frq = pd.value_counts(iot.sourceType).to_frame()\n",
    "sourceType = pd.concat([sourceType_frq, (sourceType_frq/iot.sourceType.count()*100)], axis=1)\n",
    "sourceType.columns = ['Count', 'Relative Freq.']\n",
    "sourceType"
   ]
  },
  {
   "cell_type": "code",
   "execution_count": 10,
   "metadata": {},
   "outputs": [
    {
     "data": {
      "text/html": [
       "<div>\n",
       "<style scoped>\n",
       "    .dataframe tbody tr th:only-of-type {\n",
       "        vertical-align: middle;\n",
       "    }\n",
       "\n",
       "    .dataframe tbody tr th {\n",
       "        vertical-align: top;\n",
       "    }\n",
       "\n",
       "    .dataframe thead th {\n",
       "        text-align: right;\n",
       "    }\n",
       "</style>\n",
       "<table border=\"1\" class=\"dataframe\">\n",
       "  <thead>\n",
       "    <tr style=\"text-align: right;\">\n",
       "      <th></th>\n",
       "      <th>Count</th>\n",
       "      <th>Relative Freq.</th>\n",
       "    </tr>\n",
       "  </thead>\n",
       "  <tbody>\n",
       "    <tr>\n",
       "      <th>/sensorService</th>\n",
       "      <td>130313</td>\n",
       "      <td>36.405160</td>\n",
       "    </tr>\n",
       "    <tr>\n",
       "      <th>/batteryService</th>\n",
       "      <td>129125</td>\n",
       "      <td>36.073272</td>\n",
       "    </tr>\n",
       "    <tr>\n",
       "      <th>/movementSensor</th>\n",
       "      <td>93645</td>\n",
       "      <td>26.161329</td>\n",
       "    </tr>\n",
       "    <tr>\n",
       "      <th>/washingService</th>\n",
       "      <td>1805</td>\n",
       "      <td>0.504258</td>\n",
       "    </tr>\n",
       "    <tr>\n",
       "      <th>/lightControler</th>\n",
       "      <td>1694</td>\n",
       "      <td>0.473248</td>\n",
       "    </tr>\n",
       "    <tr>\n",
       "      <th>/doorLockService</th>\n",
       "      <td>1048</td>\n",
       "      <td>0.292777</td>\n",
       "    </tr>\n",
       "    <tr>\n",
       "      <th>/thermostat</th>\n",
       "      <td>319</td>\n",
       "      <td>0.089118</td>\n",
       "    </tr>\n",
       "    <tr>\n",
       "      <th>/smartPhone</th>\n",
       "      <td>3</td>\n",
       "      <td>0.000838</td>\n",
       "    </tr>\n",
       "  </tbody>\n",
       "</table>\n",
       "</div>"
      ],
      "text/plain": [
       "                   Count  Relative Freq.\n",
       "/sensorService    130313       36.405160\n",
       "/batteryService   129125       36.073272\n",
       "/movementSensor    93645       26.161329\n",
       "/washingService     1805        0.504258\n",
       "/lightControler     1694        0.473248\n",
       "/doorLockService    1048        0.292777\n",
       "/thermostat          319        0.089118\n",
       "/smartPhone            3        0.000838"
      ]
     },
     "execution_count": 10,
     "metadata": {},
     "output_type": "execute_result"
    }
   ],
   "source": [
    "# Explore the distribution of destination service type\n",
    "destinationType_frq = pd.value_counts(iot.destinationServiceType).to_frame()\n",
    "destinationType = pd.concat([destinationType_frq, (destinationType_frq/iot.destinationServiceType.count()*100)], axis=1)\n",
    "destinationType.columns = ['Count', 'Relative Freq.']\n",
    "destinationType"
   ]
  },
  {
   "cell_type": "code",
   "execution_count": 11,
   "metadata": {},
   "outputs": [
    {
     "data": {
      "text/html": [
       "<div>\n",
       "<style scoped>\n",
       "    .dataframe tbody tr th:only-of-type {\n",
       "        vertical-align: middle;\n",
       "    }\n",
       "\n",
       "    .dataframe tbody tr th {\n",
       "        vertical-align: top;\n",
       "    }\n",
       "\n",
       "    .dataframe thead th {\n",
       "        text-align: right;\n",
       "    }\n",
       "</style>\n",
       "<table border=\"1\" class=\"dataframe\">\n",
       "  <thead>\n",
       "    <tr style=\"text-align: right;\">\n",
       "      <th></th>\n",
       "      <th>Count</th>\n",
       "      <th>Relative Freq.</th>\n",
       "    </tr>\n",
       "  </thead>\n",
       "  <tbody>\n",
       "    <tr>\n",
       "      <th>/sensorService</th>\n",
       "      <td>130155</td>\n",
       "      <td>36.376061</td>\n",
       "    </tr>\n",
       "    <tr>\n",
       "      <th>/derived/boolean</th>\n",
       "      <td>94725</td>\n",
       "      <td>26.473991</td>\n",
       "    </tr>\n",
       "    <tr>\n",
       "      <th>/basic/number</th>\n",
       "      <td>90016</td>\n",
       "      <td>25.157908</td>\n",
       "    </tr>\n",
       "    <tr>\n",
       "      <th>/basic/text</th>\n",
       "      <td>42433</td>\n",
       "      <td>11.859286</td>\n",
       "    </tr>\n",
       "    <tr>\n",
       "      <th>/thermostat</th>\n",
       "      <td>313</td>\n",
       "      <td>0.087478</td>\n",
       "    </tr>\n",
       "    <tr>\n",
       "      <th>/basic/composed</th>\n",
       "      <td>100</td>\n",
       "      <td>0.027948</td>\n",
       "    </tr>\n",
       "    <tr>\n",
       "      <th>/lightControler</th>\n",
       "      <td>23</td>\n",
       "      <td>0.006428</td>\n",
       "    </tr>\n",
       "    <tr>\n",
       "      <th>/movementSensor</th>\n",
       "      <td>22</td>\n",
       "      <td>0.006149</td>\n",
       "    </tr>\n",
       "    <tr>\n",
       "      <th>/batteryService</th>\n",
       "      <td>6</td>\n",
       "      <td>0.001677</td>\n",
       "    </tr>\n",
       "    <tr>\n",
       "      <th>/doorLockService</th>\n",
       "      <td>5</td>\n",
       "      <td>0.001397</td>\n",
       "    </tr>\n",
       "    <tr>\n",
       "      <th>/washingService</th>\n",
       "      <td>3</td>\n",
       "      <td>0.000838</td>\n",
       "    </tr>\n",
       "    <tr>\n",
       "      <th>/smartPhone</th>\n",
       "      <td>3</td>\n",
       "      <td>0.000838</td>\n",
       "    </tr>\n",
       "  </tbody>\n",
       "</table>\n",
       "</div>"
      ],
      "text/plain": [
       "                   Count  Relative Freq.\n",
       "/sensorService    130155       36.376061\n",
       "/derived/boolean   94725       26.473991\n",
       "/basic/number      90016       25.157908\n",
       "/basic/text        42433       11.859286\n",
       "/thermostat          313        0.087478\n",
       "/basic/composed      100        0.027948\n",
       "/lightControler       23        0.006428\n",
       "/movementSensor       22        0.006149\n",
       "/batteryService        6        0.001677\n",
       "/doorLockService       5        0.001397\n",
       "/washingService        3        0.000838\n",
       "/smartPhone            3        0.000838"
      ]
     },
     "execution_count": 11,
     "metadata": {},
     "output_type": "execute_result"
    }
   ],
   "source": [
    "# Explore the distribution of accessed node type\n",
    "accessedNode_frq = pd.value_counts(iot.accessedNodeType).to_frame()\n",
    "accessedNode = pd.concat([accessedNode_frq, (accessedNode_frq/iot.accessedNodeType.count()*100)], axis=1)\n",
    "accessedNode.columns = ['Count', 'Relative Freq.']\n",
    "accessedNode"
   ]
  },
  {
   "cell_type": "code",
   "execution_count": 12,
   "metadata": {},
   "outputs": [
    {
     "data": {
      "image/png": "[encoded data removed]",
      "text/plain": [
       "<Figure size 720x432 with 1 Axes>"
      ]
     },
     "metadata": {
      "needs_background": "light"
     },
     "output_type": "display_data"
    }
   ],
   "source": [
    "# Explore the distribution of source location\n",
    "iot.sourceLocation.value_counts().plot(kind='bar', figsize=(10,6));\n",
    "plt.xticks(rotation=70);\n",
    "plt.xlabel('Source Locations');\n",
    "plt.ylabel('Frequency');\n",
    "plt.title('Source Location Distibution', color = 'black', fontsize = 12);"
   ]
  },
  {
   "cell_type": "code",
   "execution_count": 13,
   "metadata": {},
   "outputs": [
    {
     "data": {
      "image/png": "[encoded data removed]",
      "text/plain": [
       "<Figure size 720x432 with 1 Axes>"
      ]
     },
     "metadata": {
      "needs_background": "light"
     },
     "output_type": "display_data"
    }
   ],
   "source": [
    "# Explore the distribution of destination location\n",
    "iot.destinationLocation.value_counts().plot(kind='bar', figsize=(10,6));\n",
    "plt.xticks(rotation=70);\n",
    "plt.xlabel('Destination Locations');\n",
    "plt.ylabel('Frequency');\n",
    "plt.title('Destination Location Distibution', color = 'black', fontsize = 12);"
   ]
  },
  {
   "cell_type": "code",
   "execution_count": 14,
   "metadata": {},
   "outputs": [
    {
     "data": {
      "text/html": [
       "<div>\n",
       "<style scoped>\n",
       "    .dataframe tbody tr th:only-of-type {\n",
       "        vertical-align: middle;\n",
       "    }\n",
       "\n",
       "    .dataframe tbody tr th {\n",
       "        vertical-align: top;\n",
       "    }\n",
       "\n",
       "    .dataframe thead th {\n",
       "        text-align: right;\n",
       "    }\n",
       "</style>\n",
       "<table border=\"1\" class=\"dataframe\">\n",
       "  <thead>\n",
       "    <tr style=\"text-align: right;\">\n",
       "      <th></th>\n",
       "      <th>Count</th>\n",
       "      <th>Relative Freq.</th>\n",
       "    </tr>\n",
       "  </thead>\n",
       "  <tbody>\n",
       "    <tr>\n",
       "      <th>normal</th>\n",
       "      <td>347935</td>\n",
       "      <td>97.201580</td>\n",
       "    </tr>\n",
       "    <tr>\n",
       "      <th>anomalous(DoSattack)</th>\n",
       "      <td>5780</td>\n",
       "      <td>1.614742</td>\n",
       "    </tr>\n",
       "    <tr>\n",
       "      <th>anomalous(scan)</th>\n",
       "      <td>1547</td>\n",
       "      <td>0.432181</td>\n",
       "    </tr>\n",
       "    <tr>\n",
       "      <th>anomalous(malitiousControl)</th>\n",
       "      <td>889</td>\n",
       "      <td>0.248357</td>\n",
       "    </tr>\n",
       "    <tr>\n",
       "      <th>anomalous(malitiousOperation)</th>\n",
       "      <td>805</td>\n",
       "      <td>0.224890</td>\n",
       "    </tr>\n",
       "    <tr>\n",
       "      <th>anomalous(spying)</th>\n",
       "      <td>532</td>\n",
       "      <td>0.148623</td>\n",
       "    </tr>\n",
       "    <tr>\n",
       "      <th>anomalous(dataProbing)</th>\n",
       "      <td>342</td>\n",
       "      <td>0.095544</td>\n",
       "    </tr>\n",
       "    <tr>\n",
       "      <th>anomalous(wrongSetUp)</th>\n",
       "      <td>122</td>\n",
       "      <td>0.034083</td>\n",
       "    </tr>\n",
       "  </tbody>\n",
       "</table>\n",
       "</div>"
      ],
      "text/plain": [
       "                                Count  Relative Freq.\n",
       "normal                         347935       97.201580\n",
       "anomalous(DoSattack)             5780        1.614742\n",
       "anomalous(scan)                  1547        0.432181\n",
       "anomalous(malitiousControl)       889        0.248357\n",
       "anomalous(malitiousOperation)     805        0.224890\n",
       "anomalous(spying)                 532        0.148623\n",
       "anomalous(dataProbing)            342        0.095544\n",
       "anomalous(wrongSetUp)             122        0.034083"
      ]
     },
     "metadata": {},
     "output_type": "display_data"
    },
    {
     "name": "stdout",
     "output_type": "stream",
     "text": [
      "\n",
      "Total anomalous connections: 10017\n",
      "Anomalous connections relative frequency: 2.7984198998748435\n"
     ]
    }
   ],
   "source": [
    "# Explore the distribution of normality feature\n",
    "normality_frq = pd.value_counts(iot.normality).to_frame()\n",
    "normality = pd.concat([normality_frq, (normality_frq/iot.normality.count()*100)], axis=1)\n",
    "normality.columns = ['Count', 'Relative Freq.']\n",
    "display(normality)\n",
    "print(\"\\nTotal anomalous connections:\", iot.normality.str.contains('anomalous').sum())\n",
    "print(\"Anomalous connections relative frequency:\", iot.normality.str.contains('anomalous').sum()\\\n",
    "      /iot.normality.count()*100)"
   ]
  },
  {
   "cell_type": "markdown",
   "metadata": {},
   "source": [
    "This indicates that ~3% of the connections only are anomalous connections! which is a normal scenario in fraud datasets."
   ]
  },
  {
   "cell_type": "markdown",
   "metadata": {},
   "source": [
    "---"
   ]
  },
  {
   "cell_type": "markdown",
   "metadata": {},
   "source": [
    "<a id=\"data-preprocessing\"></a>\n",
    "## Data Preprocessing\n",
    "\n",
    "This section handels the missing values in the dataset and deals with them."
   ]
  },
  {
   "cell_type": "code",
   "execution_count": 15,
   "metadata": {},
   "outputs": [
    {
     "data": {
      "text/html": [
       "<div>\n",
       "<style scoped>\n",
       "    .dataframe tbody tr th:only-of-type {\n",
       "        vertical-align: middle;\n",
       "    }\n",
       "\n",
       "    .dataframe tbody tr th {\n",
       "        vertical-align: top;\n",
       "    }\n",
       "\n",
       "    .dataframe thead th {\n",
       "        text-align: right;\n",
       "    }\n",
       "</style>\n",
       "<table border=\"1\" class=\"dataframe\">\n",
       "  <thead>\n",
       "    <tr style=\"text-align: right;\">\n",
       "      <th></th>\n",
       "      <th>Features</th>\n",
       "      <th>Missing Values</th>\n",
       "    </tr>\n",
       "  </thead>\n",
       "  <tbody>\n",
       "    <tr>\n",
       "      <th>0</th>\n",
       "      <td>value</td>\n",
       "      <td>2050</td>\n",
       "    </tr>\n",
       "    <tr>\n",
       "      <th>1</th>\n",
       "      <td>accessedNodeType</td>\n",
       "      <td>148</td>\n",
       "    </tr>\n",
       "    <tr>\n",
       "      <th>2</th>\n",
       "      <td>normality</td>\n",
       "      <td>0</td>\n",
       "    </tr>\n",
       "    <tr>\n",
       "      <th>3</th>\n",
       "      <td>timestamp</td>\n",
       "      <td>0</td>\n",
       "    </tr>\n",
       "    <tr>\n",
       "      <th>4</th>\n",
       "      <td>operation</td>\n",
       "      <td>0</td>\n",
       "    </tr>\n",
       "    <tr>\n",
       "      <th>5</th>\n",
       "      <td>accessedNodeAddress</td>\n",
       "      <td>0</td>\n",
       "    </tr>\n",
       "    <tr>\n",
       "      <th>6</th>\n",
       "      <td>destinationLocation</td>\n",
       "      <td>0</td>\n",
       "    </tr>\n",
       "    <tr>\n",
       "      <th>7</th>\n",
       "      <td>destinationServiceType</td>\n",
       "      <td>0</td>\n",
       "    </tr>\n",
       "    <tr>\n",
       "      <th>8</th>\n",
       "      <td>destinationServiceAddress</td>\n",
       "      <td>0</td>\n",
       "    </tr>\n",
       "    <tr>\n",
       "      <th>9</th>\n",
       "      <td>sourceLocation</td>\n",
       "      <td>0</td>\n",
       "    </tr>\n",
       "    <tr>\n",
       "      <th>10</th>\n",
       "      <td>sourceType</td>\n",
       "      <td>0</td>\n",
       "    </tr>\n",
       "    <tr>\n",
       "      <th>11</th>\n",
       "      <td>sourceAddress</td>\n",
       "      <td>0</td>\n",
       "    </tr>\n",
       "    <tr>\n",
       "      <th>12</th>\n",
       "      <td>sourceID</td>\n",
       "      <td>0</td>\n",
       "    </tr>\n",
       "  </tbody>\n",
       "</table>\n",
       "</div>"
      ],
      "text/plain": [
       "                     Features  Missing Values\n",
       "0                       value            2050\n",
       "1            accessedNodeType             148\n",
       "2                   normality               0\n",
       "3                   timestamp               0\n",
       "4                   operation               0\n",
       "5         accessedNodeAddress               0\n",
       "6         destinationLocation               0\n",
       "7      destinationServiceType               0\n",
       "8   destinationServiceAddress               0\n",
       "9              sourceLocation               0\n",
       "10                 sourceType               0\n",
       "11              sourceAddress               0\n",
       "12                   sourceID               0"
      ]
     },
     "execution_count": 15,
     "metadata": {},
     "output_type": "execute_result"
    }
   ],
   "source": [
    "# Number of missing values in each feature\n",
    "missing = iot.isnull().sum().sort_values(ascending = False).reset_index()\n",
    "missing.columns = ['Features', 'Missing Values']\n",
    "missing"
   ]
  },
  {
   "cell_type": "code",
   "execution_count": 16,
   "metadata": {},
   "outputs": [
    {
     "data": {
      "image/png": "[encoded data removed]",
      "text/plain": [
       "<Figure size 432x288 with 1 Axes>"
      ]
     },
     "metadata": {
      "needs_background": "light"
     },
     "output_type": "display_data"
    }
   ],
   "source": [
    "# Visualizing missing values\n",
    "sns.barplot(x='Missing Values', y='Features', data=missing.head(2));\n",
    "plt.title('Number of Missing Values in Each Feature');"
   ]
  },
  {
   "cell_type": "markdown",
   "metadata": {},
   "source": [
    "Before deciding how to deal with the missing values, let's explore these rows to have a better insight."
   ]
  },
  {
   "cell_type": "code",
   "execution_count": 17,
   "metadata": {},
   "outputs": [],
   "source": [
    "# Method to assess the null values in dataframe\n",
    "def assess_NA(data):\n",
    "    # pandas series denoting features and the sum of their null values\n",
    "    null_sum = data.isnull().sum()# instantiate columns for missing data\n",
    "    total = null_sum.sort_values(ascending=False)\n",
    "    percent = (((null_sum / len(data.index))*100).round(2)).sort_values(ascending=False)\n",
    "    \n",
    "    # concatenate along the columns to create the complete dataframe\n",
    "    df_NA = pd.concat([total, percent], axis=1, keys=['Number of NA', 'Percent NA'])\n",
    "    \n",
    "    # drop rows that don't have any missing data; omit if you want to keep all rows\n",
    "    df_NA = df_NA[(df_NA.T != 0).any()]\n",
    "    \n",
    "    return df_NA"
   ]
  },
  {
   "cell_type": "code",
   "execution_count": 18,
   "metadata": {},
   "outputs": [
    {
     "data": {
      "text/html": [
       "<div>\n",
       "<style scoped>\n",
       "    .dataframe tbody tr th:only-of-type {\n",
       "        vertical-align: middle;\n",
       "    }\n",
       "\n",
       "    .dataframe tbody tr th {\n",
       "        vertical-align: top;\n",
       "    }\n",
       "\n",
       "    .dataframe thead th {\n",
       "        text-align: right;\n",
       "    }\n",
       "</style>\n",
       "<table border=\"1\" class=\"dataframe\">\n",
       "  <thead>\n",
       "    <tr style=\"text-align: right;\">\n",
       "      <th></th>\n",
       "      <th>Number of NA</th>\n",
       "      <th>Percent NA</th>\n",
       "    </tr>\n",
       "  </thead>\n",
       "  <tbody>\n",
       "    <tr>\n",
       "      <th>value</th>\n",
       "      <td>2044</td>\n",
       "      <td>20.41</td>\n",
       "    </tr>\n",
       "    <tr>\n",
       "      <th>accessedNodeType</th>\n",
       "      <td>148</td>\n",
       "      <td>1.48</td>\n",
       "    </tr>\n",
       "  </tbody>\n",
       "</table>\n",
       "</div>"
      ],
      "text/plain": [
       "                  Number of NA  Percent NA\n",
       "value                     2044       20.41\n",
       "accessedNodeType           148        1.48"
      ]
     },
     "execution_count": 18,
     "metadata": {},
     "output_type": "execute_result"
    }
   ],
   "source": [
    "# Check if rows with missing accessed node type & values are anomalous connections\n",
    "anomalous = iot[iot.normality.str.contains('anomalous')]\n",
    "df_with_any_null_values = anomalous[anomalous.columns[anomalous.isnull().any()].tolist()]\n",
    "assess_NA(df_with_any_null_values)"
   ]
  },
  {
   "cell_type": "markdown",
   "metadata": {},
   "source": [
    "Number of missing values in accessed node types are 148, all of which represent anomalous connections. Also, the value feature has 2050 missing values, 2044 of them are related to anomalous connections, equivalent to 20% of the total number of anomalous connections in the dataset. Thus, deleting these rows are not a possible option here as it may cause lose of valuable data.\n",
    "\n",
    "Before deciding how to deal with the missing values, let's explore these rows to have a better insight."
   ]
  },
  {
   "cell_type": "code",
   "execution_count": 19,
   "metadata": {},
   "outputs": [
    {
     "data": {
      "text/plain": [
       "148"
      ]
     },
     "execution_count": 19,
     "metadata": {},
     "output_type": "execute_result"
    }
   ],
   "source": [
    "# Check if the missing values in accessedNodeType are in the same rows of value feature\n",
    "anomalous[(anomalous.accessedNodeType.isnull())&(anomalous.value.isnull())].shape[0]"
   ]
  },
  {
   "cell_type": "markdown",
   "metadata": {},
   "source": [
    "### 1. Dealing with accessed node type missing values\n",
    "\n",
    "In the dataset, there is accessed node address and accessed node type. These two features are relevant to each other in which the former describes the address of accessed node and the later describes the type of that accessed node. So let's have a look at the relation between these two features to get a better insight on how to impute the missing values in accessed node type column."
   ]
  },
  {
   "cell_type": "code",
   "execution_count": 20,
   "metadata": {},
   "outputs": [
    {
     "data": {
      "text/plain": [
       "array(['/agent5/battery2/charging', '/agent4/battery3/charging'],\n",
       "      dtype=object)"
      ]
     },
     "execution_count": 20,
     "metadata": {},
     "output_type": "execute_result"
    }
   ],
   "source": [
    "# Check the address of the accessed nodes that have missing types\n",
    "iot[iot.accessedNodeType.isnull()].accessedNodeAddress.unique()"
   ]
  },
  {
   "cell_type": "code",
   "execution_count": 21,
   "metadata": {},
   "outputs": [
    {
     "data": {
      "text/plain": [
       "/basic/text    10705\n",
       "Name: accessedNodeType, dtype: int64"
      ]
     },
     "execution_count": 21,
     "metadata": {},
     "output_type": "execute_result"
    }
   ],
   "source": [
    "# Check the types of these two addresses in the complete dataset \n",
    "iot[(iot.accessedNodeAddress == '/agent5/battery2/charging')|\\\n",
    "    (iot.accessedNodeAddress == '/agent4/battery3/charging')].accessedNodeType.value_counts()"
   ]
  },
  {
   "cell_type": "markdown",
   "metadata": {},
   "source": [
    "This result shows that there is only one type for these two addresses in the complete dataset which is *'/basic/text'*. So let's impute the missing values in accessed node type column using the **the most frequent** or in this case the only one type based on these addresses types. "
   ]
  },
  {
   "cell_type": "code",
   "execution_count": 22,
   "metadata": {},
   "outputs": [],
   "source": [
    "# Using fillna to fill in all accessed node type missing values with '/basic/text' type\n",
    "iot.accessedNodeType.fillna(value='/basic/text', inplace=True)"
   ]
  },
  {
   "cell_type": "code",
   "execution_count": 23,
   "metadata": {},
   "outputs": [
    {
     "data": {
      "text/plain": [
       "0"
      ]
     },
     "execution_count": 23,
     "metadata": {},
     "output_type": "execute_result"
    }
   ],
   "source": [
    "# Verify the number of missing values in accessed node type\n",
    "iot.accessedNodeType.isnull().sum()"
   ]
  },
  {
   "cell_type": "markdown",
   "metadata": {},
   "source": [
    "### 2. Dealing with value column missing data"
   ]
  },
  {
   "cell_type": "code",
   "execution_count": 24,
   "metadata": {},
   "outputs": [
    {
     "data": {
      "text/plain": [
       "10623"
      ]
     },
     "execution_count": 24,
     "metadata": {},
     "output_type": "execute_result"
    }
   ],
   "source": [
    "# Number of unique values in value column\n",
    "iot.value.nunique()"
   ]
  },
  {
   "cell_type": "code",
   "execution_count": 25,
   "metadata": {},
   "outputs": [
    {
     "data": {
      "text/plain": [
       "10616"
      ]
     },
     "execution_count": 25,
     "metadata": {},
     "output_type": "execute_result"
    }
   ],
   "source": [
    "# Number of unique values for normal connections\n",
    "iot[iot.normality.str.contains('normal')].value.nunique()"
   ]
  },
  {
   "cell_type": "code",
   "execution_count": 26,
   "metadata": {},
   "outputs": [
    {
     "data": {
      "text/plain": [
       "array(['1', '19.9497', '5.1', '0', '3.24', 'twenty', '4.03', '4.12', nan,\n",
       "       'false', '5', 'true', '0.0', '10', '19.881', '19.8819'],\n",
       "      dtype=object)"
      ]
     },
     "execution_count": 26,
     "metadata": {},
     "output_type": "execute_result"
    }
   ],
   "source": [
    "# Unique values for anomalous connections\n",
    "iot[iot.normality.str.contains('anomalous')].value.unique()"
   ]
  },
  {
   "cell_type": "code",
   "execution_count": 27,
   "metadata": {},
   "outputs": [
    {
     "data": {
      "text/plain": [
       "1                    57047\n",
       "0                    50282\n",
       "false                25966\n",
       "true                 14460\n",
       "10                    9635\n",
       "                     ...  \n",
       "1.521216841986E12        1\n",
       "19.7878                  1\n",
       "1.521218776648E12        1\n",
       "1.521223732901E12        1\n",
       "1.52122153002E12         1\n",
       "Name: value, Length: 10623, dtype: int64"
      ]
     },
     "execution_count": 27,
     "metadata": {},
     "output_type": "execute_result"
    }
   ],
   "source": [
    "# Check the value counts of the value column\n",
    "iot.value.value_counts()"
   ]
  },
  {
   "cell_type": "markdown",
   "metadata": {},
   "source": [
    "The value column contains 10623 unique values, 10616 related to normal connections and 15 unique values related to anomalous connetions. Also, the values in this column are diverse; decimal, integer, boolean, none, and even string. From initial exploration, there was no clear relatioship between these values and the target (normality) column. It might need a deep investigation and rough cleaning process to check if such a relation exist or not; however, considering the time limit for working in this project, I will drop this column from the dataset."
   ]
  },
  {
   "cell_type": "code",
   "execution_count": 28,
   "metadata": {},
   "outputs": [],
   "source": [
    "# Drop on value column from iot dataset, but before keep a copy of original one\n",
    "iot_value = iot.copy()\n",
    "iot.drop('value', axis=1, inplace=True)"
   ]
  },
  {
   "cell_type": "markdown",
   "metadata": {},
   "source": [
    "---"
   ]
  },
  {
   "cell_type": "markdown",
   "metadata": {},
   "source": [
    "<a id=\"dc_fe\"></a>\n",
    "## Data Cleaning & Features Engineering\n",
    "\n",
    "In this section, I visit the columns and try to reenginner them based on my understading of the dataset after reading authors descriptions of the data. \n",
    "\n",
    "The main actions are as follow:\n",
    "\n",
    "1. Tranform target column \"normality\" to binary class.\n",
    "2. Split the addresses columns into two columns 'address' and 'agent'.\n",
    "3. Remove '/' from the beginning of some columns.\n",
    "4. Drop identical and duplicated columns.\n",
    "5. Transform categorical variables into numerical variables."
   ]
  },
  {
   "cell_type": "code",
   "execution_count": 29,
   "metadata": {},
   "outputs": [
    {
     "data": {
      "text/plain": [
       "sourceID                     0\n",
       "sourceAddress                0\n",
       "sourceType                   0\n",
       "sourceLocation               0\n",
       "destinationServiceAddress    0\n",
       "destinationServiceType       0\n",
       "destinationLocation          0\n",
       "accessedNodeAddress          0\n",
       "accessedNodeType             0\n",
       "operation                    0\n",
       "timestamp                    0\n",
       "normality                    0\n",
       "dtype: int64"
      ]
     },
     "execution_count": 29,
     "metadata": {},
     "output_type": "execute_result"
    }
   ],
   "source": [
    "# At this point, we don't have any missing values\n",
    "iot.isnull().sum()"
   ]
  },
  {
   "cell_type": "markdown",
   "metadata": {},
   "source": [
    "### 1. Tranform target column"
   ]
  },
  {
   "cell_type": "code",
   "execution_count": 30,
   "metadata": {},
   "outputs": [
    {
     "data": {
      "text/html": [
       "<div>\n",
       "<style scoped>\n",
       "    .dataframe tbody tr th:only-of-type {\n",
       "        vertical-align: middle;\n",
       "    }\n",
       "\n",
       "    .dataframe tbody tr th {\n",
       "        vertical-align: top;\n",
       "    }\n",
       "\n",
       "    .dataframe thead th {\n",
       "        text-align: right;\n",
       "    }\n",
       "</style>\n",
       "<table border=\"1\" class=\"dataframe\">\n",
       "  <thead>\n",
       "    <tr style=\"text-align: right;\">\n",
       "      <th></th>\n",
       "      <th>sourceID</th>\n",
       "      <th>sourceAddress</th>\n",
       "      <th>sourceType</th>\n",
       "      <th>sourceLocation</th>\n",
       "      <th>destinationServiceAddress</th>\n",
       "      <th>destinationServiceType</th>\n",
       "      <th>destinationLocation</th>\n",
       "      <th>accessedNodeAddress</th>\n",
       "      <th>accessedNodeType</th>\n",
       "      <th>operation</th>\n",
       "      <th>timestamp</th>\n",
       "      <th>normality</th>\n",
       "      <th>normality_binary</th>\n",
       "    </tr>\n",
       "  </thead>\n",
       "  <tbody>\n",
       "    <tr>\n",
       "      <th>96163</th>\n",
       "      <td>lightcontrol27</td>\n",
       "      <td>/agent27/lightcontrol27</td>\n",
       "      <td>/lightControler</td>\n",
       "      <td>room_8</td>\n",
       "      <td>/agent27/movement27</td>\n",
       "      <td>/movementSensor</td>\n",
       "      <td>room_8</td>\n",
       "      <td>/agent27/movement27/movement</td>\n",
       "      <td>/derived/boolean</td>\n",
       "      <td>read</td>\n",
       "      <td>1520058447748</td>\n",
       "      <td>normal</td>\n",
       "      <td>0</td>\n",
       "    </tr>\n",
       "    <tr>\n",
       "      <th>48875</th>\n",
       "      <td>washingmachine1</td>\n",
       "      <td>/agent6/washingmachine1</td>\n",
       "      <td>/washingService</td>\n",
       "      <td>Bathroom</td>\n",
       "      <td>/agent5/battery2</td>\n",
       "      <td>/batteryService</td>\n",
       "      <td>Garage</td>\n",
       "      <td>/agent5/battery2/charge</td>\n",
       "      <td>/basic/number</td>\n",
       "      <td>write</td>\n",
       "      <td>1520045152321</td>\n",
       "      <td>normal</td>\n",
       "      <td>0</td>\n",
       "    </tr>\n",
       "    <tr>\n",
       "      <th>201952</th>\n",
       "      <td>tempin22</td>\n",
       "      <td>/agent22/tempin22</td>\n",
       "      <td>/sensorService</td>\n",
       "      <td>room_3</td>\n",
       "      <td>/agent22/tempin22</td>\n",
       "      <td>/sensorService</td>\n",
       "      <td>room_3</td>\n",
       "      <td>/agent22/tempin22</td>\n",
       "      <td>/sensorService</td>\n",
       "      <td>write</td>\n",
       "      <td>1520084821148</td>\n",
       "      <td>normal</td>\n",
       "      <td>0</td>\n",
       "    </tr>\n",
       "  </tbody>\n",
       "</table>\n",
       "</div>"
      ],
      "text/plain": [
       "               sourceID            sourceAddress       sourceType  \\\n",
       "96163    lightcontrol27  /agent27/lightcontrol27  /lightControler   \n",
       "48875   washingmachine1  /agent6/washingmachine1  /washingService   \n",
       "201952         tempin22        /agent22/tempin22   /sensorService   \n",
       "\n",
       "       sourceLocation destinationServiceAddress destinationServiceType  \\\n",
       "96163          room_8       /agent27/movement27        /movementSensor   \n",
       "48875        Bathroom          /agent5/battery2        /batteryService   \n",
       "201952         room_3         /agent22/tempin22         /sensorService   \n",
       "\n",
       "       destinationLocation           accessedNodeAddress  accessedNodeType  \\\n",
       "96163               room_8  /agent27/movement27/movement  /derived/boolean   \n",
       "48875               Garage       /agent5/battery2/charge     /basic/number   \n",
       "201952              room_3             /agent22/tempin22    /sensorService   \n",
       "\n",
       "       operation      timestamp normality  normality_binary  \n",
       "96163       read  1520058447748    normal                 0  \n",
       "48875      write  1520045152321    normal                 0  \n",
       "201952     write  1520084821148    normal                 0  "
      ]
     },
     "execution_count": 30,
     "metadata": {},
     "output_type": "execute_result"
    }
   ],
   "source": [
    "# Create binary target column\n",
    "iot['normality_binary'] = np.where(iot.normality.str.contains('anomalous'), 1, 0)\n",
    "iot.sample(3)"
   ]
  },
  {
   "cell_type": "code",
   "execution_count": 31,
   "metadata": {},
   "outputs": [
    {
     "data": {
      "text/plain": [
       "10017"
      ]
     },
     "execution_count": 31,
     "metadata": {},
     "output_type": "execute_result"
    }
   ],
   "source": [
    "# Check if mapping done correctly\n",
    "iot[iot.normality_binary == 1].normality_binary.count()"
   ]
  },
  {
   "cell_type": "code",
   "execution_count": 32,
   "metadata": {},
   "outputs": [],
   "source": [
    "# Drop normality column\n",
    "iot.drop('normality', axis=1, inplace=True)"
   ]
  },
  {
   "cell_type": "markdown",
   "metadata": {},
   "source": [
    "### 2. Split the addresses columns"
   ]
  },
  {
   "cell_type": "code",
   "execution_count": 33,
   "metadata": {},
   "outputs": [],
   "source": [
    "# Function to split the addresses columns into two columns, agent and address.\n",
    "def split_address(cols):\n",
    "    for col in cols:\n",
    "        iot[col[:-7]+'Agent']=iot[col].str.split('/',2, expand=True)[1]\n",
    "        iot[col]=iot[col].str.split('/',2, expand=True)[2]"
   ]
  },
  {
   "cell_type": "code",
   "execution_count": 34,
   "metadata": {},
   "outputs": [],
   "source": [
    "# Create a list of address columns names and send it to split address function\n",
    "adresses = ['sourceAddress','accessedNodeAddress','destinationServiceAddress']\n",
    "split_address(adresses)"
   ]
  },
  {
   "cell_type": "markdown",
   "metadata": {},
   "source": [
    "### 3. Remove '/' from some columns"
   ]
  },
  {
   "cell_type": "code",
   "execution_count": 35,
   "metadata": {},
   "outputs": [],
   "source": [
    "# Remove '/' from the begining of sourceType, destinationServiceType, and accessedNodeType\n",
    "def remove_slash(cols): \n",
    "    for col in cols:\n",
    "        iot[col] = iot[col].map(lambda x: x.lstrip('/'))"
   ]
  },
  {
   "cell_type": "code",
   "execution_count": 36,
   "metadata": {},
   "outputs": [],
   "source": [
    "# Let's call the function \n",
    "types = ['sourceType','destinationServiceType','accessedNodeType']\n",
    "remove_slash(types)"
   ]
  },
  {
   "cell_type": "markdown",
   "metadata": {},
   "source": [
    "### 4. Remove Identical and Duplicated Columns"
   ]
  },
  {
   "cell_type": "code",
   "execution_count": 37,
   "metadata": {},
   "outputs": [],
   "source": [
    "# Compare sourceID and sourceAddress columns\n",
    "iot['sourceAddress_comparison'] = np.where(iot[\"sourceID\"] == iot[\"sourceAddress\"], True, False)"
   ]
  },
  {
   "cell_type": "code",
   "execution_count": 38,
   "metadata": {},
   "outputs": [
    {
     "data": {
      "text/plain": [
       "True    357952\n",
       "Name: sourceAddress_comparison, dtype: int64"
      ]
     },
     "execution_count": 38,
     "metadata": {},
     "output_type": "execute_result"
    }
   ],
   "source": [
    "# Check the number of true values\n",
    "iot['sourceAddress_comparison'].value_counts()"
   ]
  },
  {
   "cell_type": "code",
   "execution_count": 39,
   "metadata": {},
   "outputs": [],
   "source": [
    "# The columns are match, drop sourceID and sourceAddress_comparison\n",
    "iot.drop('sourceID', axis=1, inplace=True)\n",
    "iot.drop('sourceAddress_comparison', axis=1, inplace=True)"
   ]
  },
  {
   "cell_type": "code",
   "execution_count": 40,
   "metadata": {},
   "outputs": [
    {
     "data": {
      "text/plain": [
       "True    357952\n",
       "Name: destination_accessed, dtype: int64"
      ]
     },
     "execution_count": 40,
     "metadata": {},
     "output_type": "execute_result"
    }
   ],
   "source": [
    "# Compare destinationServiceAgent and accessedNodeAgent columns \n",
    "iot['destination_accessed'] = np.where(iot[\"destinationServiceAgent\"] == iot[\"accessedNodeAgent\"], True, False)\n",
    "iot['destination_accessed'].value_counts()"
   ]
  },
  {
   "cell_type": "code",
   "execution_count": 41,
   "metadata": {},
   "outputs": [],
   "source": [
    "# The columns are match, drop accessedNodeAgent and destination_accessed\n",
    "iot.drop('accessedNodeAgent', axis=1, inplace=True)\n",
    "iot.drop('destination_accessed', axis=1, inplace=True)"
   ]
  },
  {
   "cell_type": "markdown",
   "metadata": {},
   "source": [
    "Based on my understading of the dataset, there are 21 rooms represented by 'Location' in the dataset. Also, there are agents that represent the root address of a service. I will investigate if agent is equivalent to room; I mean they always have the same pair of values in the whole dataset. If so, I will remove duplicate columns."
   ]
  },
  {
   "cell_type": "code",
   "execution_count": 42,
   "metadata": {},
   "outputs": [
    {
     "name": "stdout",
     "output_type": "stream",
     "text": [
      "Source location unique values:  21\n",
      "Source agent unique values:  21\n",
      "Destination location unique values:  21\n",
      "Destination agent unique values:  21\n"
     ]
    }
   ],
   "source": [
    "# Number of unique values in locations and agents columns\n",
    "print(\"Source location unique values: \",iot.sourceLocation.nunique())\n",
    "print(\"Source agent unique values: \",iot.sourceAgent.nunique())\n",
    "print(\"Destination location unique values: \",iot.destinationLocation.nunique())\n",
    "print(\"Destination agent unique values: \",iot.destinationServiceAgent.nunique())"
   ]
  },
  {
   "cell_type": "code",
   "execution_count": 43,
   "metadata": {},
   "outputs": [
    {
     "data": {
      "text/plain": [
       "357952"
      ]
     },
     "execution_count": 43,
     "metadata": {},
     "output_type": "execute_result"
    }
   ],
   "source": [
    "# Check if source location and source agent are duplicated\n",
    "iot.duplicated(['sourceLocation','sourceAgent'],keep=False).sum()"
   ]
  },
  {
   "cell_type": "code",
   "execution_count": 44,
   "metadata": {},
   "outputs": [
    {
     "data": {
      "text/plain": [
       "357952"
      ]
     },
     "execution_count": 44,
     "metadata": {},
     "output_type": "execute_result"
    }
   ],
   "source": [
    "# Check if destination location and destination agent are duplicated\n",
    "iot.duplicated(['destinationLocation','destinationServiceAgent'],keep=False).sum()"
   ]
  },
  {
   "cell_type": "markdown",
   "metadata": {},
   "source": [
    "The results are equilavent to the number of rows in the complete dataset, so they are duplicated."
   ]
  },
  {
   "cell_type": "code",
   "execution_count": 45,
   "metadata": {},
   "outputs": [],
   "source": [
    "# Drop source agent and destination agent columns\n",
    "iot.drop('sourceAgent', axis=1, inplace=True)\n",
    "iot.drop('destinationServiceAgent', axis=1, inplace=True)"
   ]
  },
  {
   "cell_type": "markdown",
   "metadata": {},
   "source": [
    "Now, I will try to reduce the number of unique variables in the 'accessedNodeAddress' column by exploring its relationship with 'accessedNodeType' column."
   ]
  },
  {
   "cell_type": "code",
   "execution_count": 46,
   "metadata": {},
   "outputs": [],
   "source": [
    "# Remove all numbers (devices numbers) from accessedNodeAddress\n",
    "iot['temp_accessedNodeAddress'] = iot['accessedNodeAddress'].str.replace('\\d+', '')"
   ]
  },
  {
   "cell_type": "code",
   "execution_count": 47,
   "metadata": {},
   "outputs": [
    {
     "data": {
      "text/plain": [
       "357952"
      ]
     },
     "execution_count": 47,
     "metadata": {},
     "output_type": "execute_result"
    }
   ],
   "source": [
    "# Check if accessed node address without numbers column and accessedNodeType column are duplicated\n",
    "iot.duplicated(['accessedNodeType','temp_accessedNodeAddress'],keep=False).sum()"
   ]
  },
  {
   "cell_type": "markdown",
   "metadata": {},
   "source": [
    "We have 84 IoT devices of 8 types in the dataset, as shown, it's always the same relationship between the type of device in 'accessedNodeAddress' and the type of connection this device does in 'accessedNodeType', for example: movement4 device and movementSensor type. The difference and what makes the unique values large is the 84 devices, although they have the same types and relashipships with 'accessedNodeType'.\n",
    "\n",
    "So I will remove what's after '/' in 'accessedNodeAddress' columns to reduce the number of unique values, as it can always be described by 'accessedNodeType' columns."
   ]
  },
  {
   "cell_type": "code",
   "execution_count": 48,
   "metadata": {},
   "outputs": [],
   "source": [
    "# Remove all characters after '/' in accessedNodeAddress and drop the temporary coulmn\n",
    "iot['accessedNodeAddress']=iot['accessedNodeAddress'].str.split('/').str[0]\n",
    "iot.drop('temp_accessedNodeAddress', axis=1, inplace=True)"
   ]
  },
  {
   "cell_type": "code",
   "execution_count": 49,
   "metadata": {},
   "outputs": [
    {
     "data": {
      "text/plain": [
       "357952"
      ]
     },
     "execution_count": 49,
     "metadata": {},
     "output_type": "execute_result"
    }
   ],
   "source": [
    "# Check if destinationServiceAddress is equal to accessedNodeAddress\n",
    "iot[iot.destinationServiceAddress == iot.accessedNodeAddress].shape[0]"
   ]
  },
  {
   "cell_type": "code",
   "execution_count": 50,
   "metadata": {},
   "outputs": [],
   "source": [
    "# The are equal, drop destinationServiceAddress column\n",
    "iot.drop('destinationServiceAddress', axis=1, inplace=True)"
   ]
  },
  {
   "cell_type": "markdown",
   "metadata": {},
   "source": [
    "### 5. Tranformation"
   ]
  },
  {
   "cell_type": "code",
   "execution_count": 51,
   "metadata": {},
   "outputs": [],
   "source": [
    "# Tranform all categorial variables into numberical variables\n",
    "for col in iot.columns:\n",
    "    if iot[col].dtype == np.object:\n",
    "        iot = pd.get_dummies(iot, columns=[col])"
   ]
  },
  {
   "cell_type": "code",
   "execution_count": 52,
   "metadata": {},
   "outputs": [
    {
     "data": {
      "text/plain": [
       "(357952, 245)"
      ]
     },
     "execution_count": 52,
     "metadata": {},
     "output_type": "execute_result"
    }
   ],
   "source": [
    "# Shape of the dataset\n",
    "iot.shape"
   ]
  },
  {
   "cell_type": "markdown",
   "metadata": {},
   "source": [
    "---"
   ]
  },
  {
   "cell_type": "markdown",
   "metadata": {},
   "source": [
    "## Some Visualizations"
   ]
  },
  {
   "cell_type": "code",
   "execution_count": 53,
   "metadata": {},
   "outputs": [
    {
     "data": {
      "image/png": "[encoded data removed]",
      "text/plain": [
       "<Figure size 432x432 with 1 Axes>"
      ]
     },
     "metadata": {
      "needs_background": "light"
     },
     "output_type": "display_data"
    }
   ],
   "source": [
    "# Bar chart of binary class distribution\n",
    "fig, ax2 = plt.subplots()\n",
    "iot.normality_binary.value_counts().plot(kind='bar', ax=ax2, figsize=(6,6), fontsize=11, color=['green', 'red']);\n",
    "plt.xticks(rotation=0);\n",
    "ax2.set_ylabel('Count')\n",
    "ax2.set_title('Heavy Imbalanced Classes', color = 'black', fontsize = 12);\n",
    "ax2.set_xticklabels(('normal (0)', 'anomalous (1)'));"
   ]
  },
  {
   "cell_type": "markdown",
   "metadata": {},
   "source": [
    "It's clear by now and from the figure above that this dataset suffers from heavey imbalaced classes. The normal connections cover 97.2% which is far outweight the anomalous connections. We can't train the model on this dataset as it will result in a biased model; we may have high accuracy score as the normal class was the dominant class in the dataset.\n",
    "\n",
    "For this reason, I will do resampling for the dataset before trainng and testing it."
   ]
  },
  {
   "cell_type": "markdown",
   "metadata": {},
   "source": [
    "---"
   ]
  },
  {
   "cell_type": "markdown",
   "metadata": {},
   "source": [
    "<a id=\"resampling\"></a>\n",
    "## Resampling\n",
    "\n",
    "In this section, the following resampling technique will be applied: Synthetic Minority Oversampling (SMOTE)."
   ]
  },
  {
   "cell_type": "code",
   "execution_count": 54,
   "metadata": {},
   "outputs": [],
   "source": [
    "# Function to print information about normality feature before resampling\n",
    "def print_before (name):\n",
    "    print(\"Before {}, counts of label '0' (normal): {}\".format(name, sum(iot.normality_binary == 0))) \n",
    "    print(\"Before {}, counts of label '1' (anomalous): {} \\n\".format(name, sum(iot.normality_binary == 1))) "
   ]
  },
  {
   "cell_type": "code",
   "execution_count": 55,
   "metadata": {},
   "outputs": [],
   "source": [
    "# Function to print information about normality feature after resampling\n",
    "def print_after (name, y, df):\n",
    "    print(\"After {}, counts of label '0' (normal): {}\".format(name, sum(y == 0))) \n",
    "    print(\"After {}, counts of label '1' (anomalous): {} \\n\".format(name, sum(y == 1))) \n",
    "    print(\"Dataset shape after {}: {}\".format(name, df.shape))"
   ]
  },
  {
   "cell_type": "markdown",
   "metadata": {},
   "source": [
    "### 1. Synthetic Minority Oversampling (SMOTE)"
   ]
  },
  {
   "cell_type": "code",
   "execution_count": 56,
   "metadata": {},
   "outputs": [
    {
     "name": "stdout",
     "output_type": "stream",
     "text": [
      "Before SMOTE oversampling, counts of label '0' (normal): 347935\n",
      "Before SMOTE oversampling, counts of label '1' (anomalous): 10017 \n",
      "\n"
     ]
    }
   ],
   "source": [
    "# Check the number of normal and anomalous connections before resampling\n",
    "print_before('SMOTE oversampling') "
   ]
  },
  {
   "cell_type": "code",
   "execution_count": 57,
   "metadata": {},
   "outputs": [],
   "source": [
    "# Import required library\n",
    "from imblearn.over_sampling import SMOTE\n",
    "\n",
    "# Spearate the target from the predictors\n",
    "X = iot.loc[:, iot.columns != 'normality_binary']\n",
    "y = iot.normality_binary\n",
    "\n",
    "# Instantiate SMOTE object\n",
    "sm = SMOTE(sampling_strategy='minority', random_state = 2)\n",
    "\n",
    "# Fit and apply the resample \n",
    "X_sm, y_sm = sm.fit_resample(X, y)"
   ]
  },
  {
   "cell_type": "code",
   "execution_count": 58,
   "metadata": {},
   "outputs": [],
   "source": [
    "# Concat both dataframes\n",
    "iot_sm = pd.concat([X_sm, y_sm], axis=1)"
   ]
  },
  {
   "cell_type": "code",
   "execution_count": 59,
   "metadata": {},
   "outputs": [
    {
     "name": "stdout",
     "output_type": "stream",
     "text": [
      "After SMOTE oversampling, counts of label '0' (normal): 347935\n",
      "After SMOTE oversampling, counts of label '1' (anomalous): 347935 \n",
      "\n",
      "Dataset shape after SMOTE oversampling: (695870, 245)\n"
     ]
    }
   ],
   "source": [
    "# Check normality classes numbers and new dataset shape \n",
    "print_after('SMOTE oversampling', y_sm, iot_sm)"
   ]
  },
  {
   "cell_type": "code",
   "execution_count": 60,
   "metadata": {},
   "outputs": [
    {
     "data": {
      "image/png": "[encoded data removed]",
      "text/plain": [
       "<Figure size 432x432 with 1 Axes>"
      ]
     },
     "metadata": {
      "needs_background": "light"
     },
     "output_type": "display_data"
    }
   ],
   "source": [
    "# Bar chart of binary class distribution after SMOTE oversampling\n",
    "fig, ax2 = plt.subplots()\n",
    "iot_sm.normality_binary.value_counts().plot(kind='bar', ax=ax2, figsize=(6,6), fontsize=11, color=['g', 'r']);\n",
    "plt.xticks(rotation=0);\n",
    "ax2.set_ylabel('Count')\n",
    "ax2.set_title('Balanced Classes - After SMOTE Oversampling', color = 'black', fontsize = 12);\n",
    "ax2.set_xticklabels(('normal (0)', 'anomalous (1)'));"
   ]
  },
  {
   "cell_type": "markdown",
   "metadata": {},
   "source": [
    "---"
   ]
  },
  {
   "cell_type": "markdown",
   "metadata": {},
   "source": [
    "<a id=\"modeling-evlauation\"></a>\n",
    "## Modelling, Feature Selection, and Evaluation\n",
    "\n",
    "In this section, random forest algorithm has been applies to SMOTE dataset. Before that Area Under Curve (AUC) evaluation metric was used to help better tune algorithms parameters."
   ]
  },
  {
   "cell_type": "markdown",
   "metadata": {},
   "source": [
    "### Functions"
   ]
  },
  {
   "cell_type": "code",
   "execution_count": 61,
   "metadata": {},
   "outputs": [],
   "source": [
    "# Import required libraries & setting options\n",
    "from sklearn.model_selection import train_test_split\n",
    "from sklearn.tree import DecisionTreeClassifier\n",
    "from sklearn.ensemble import RandomForestClassifier\n",
    "from sklearn.metrics import classification_report, confusion_matrix, accuracy_score, \\\n",
    "precision_recall_fscore_support, precision_score, recall_score\n",
    "from sklearn.model_selection import cross_val_score\n",
    "from sklearn.metrics import roc_curve, auc\n",
    "from matplotlib.legend_handler import HandlerLine2D\n",
    "\n",
    "pd.set_option('display.max_columns', None)"
   ]
  },
  {
   "cell_type": "code",
   "execution_count": 62,
   "metadata": {},
   "outputs": [],
   "source": [
    "# Print original, train, and test sets\n",
    "def print_after_split(sample_type, X, X_train, X_test, y_train, y_test):\n",
    "    print(\"Original {} dataset shape: {}\".format(sample_type, X.shape))\n",
    "    print(\"X train {} dataset shape: {}\".format(sample_type, X_train.shape))\n",
    "    print(\"X test {} dataset shape: {}\".format(sample_type, X_test.shape))\n",
    "    print(\"y train {} dataset shape: {}\".format(sample_type, y_train.shape))\n",
    "    print(\"y test {} dataset shape: {}\".format(sample_type, y_test.shape))"
   ]
  },
  {
   "cell_type": "code",
   "execution_count": 63,
   "metadata": {},
   "outputs": [],
   "source": [
    "# Create a dataframe with all evaluation metrics\n",
    "def create_df(y_test, y_preds, classifier):\n",
    "    accuracy = accuracy_score(y_test, y_preds)\n",
    "    Missclassification= 1 - accuracy\n",
    "    cm = confusion_matrix(y_test, y_preds)\n",
    "    TN = cm[0, 0]\n",
    "    TP = cm[1, 1]\n",
    "    FP = cm[0, 1]\n",
    "    FN = cm[1, 0]\n",
    "    report = classification_report(y_test, y_preds,output_dict=True)\n",
    "    precision_0 = report['0']['precision']\n",
    "    precision_1 = report['1']['precision']\n",
    "    recall_0 = report['0']['recall']\n",
    "    recall_1 = report['1']['recall']\n",
    "    f1_score_0 = report['0']['f1-score']\n",
    "    f1_score_1 = report['1']['f1-score']\n",
    "    classification_measures = [accuracy, Missclassification, TP, TN, FP, FN, precision_0, precision_1,\\\n",
    "                              recall_0, recall_1, f1_score_0, f1_score_1]\n",
    "    m = np.asarray(classification_measures)\n",
    "    if classifier == 't':\n",
    "        df_t[str(f) + \" Features \" + str(d)] = m\n",
    "        return df_t\n",
    "    elif classifier == 'l':\n",
    "        df_l[str(i) + \" Features\"] = m\n",
    "        return df_l\n",
    "    else:\n",
    "        df_f[str(f) + \" Features \"] = m\n",
    "        return df_f     "
   ]
  },
  {
   "cell_type": "code",
   "execution_count": 64,
   "metadata": {},
   "outputs": [],
   "source": [
    "def confusion_plot(y_preds, y_test, text):\n",
    "    # converting the y_test, y_pred into an array assigned to variable \"cm\" \n",
    "    cm = np.array(confusion_matrix(y_test, y_preds))\n",
    "    cm_lr = pd.DataFrame(cm, index=['actual_normal', 'actual_anomalous'],\n",
    "                             columns=['predicted_normal',\n",
    "                                      'predicted_anomolous']); cm_lr\n",
    "    plt.title('Confusion Matrix for\\n SMOTE Oversampling Dataset\\n {}'.format(text), fontweight='bold', y=1.02)\n",
    "    sns.heatmap(pd.DataFrame(cm_lr), annot=True, square=True, linewidth=0.5, \n",
    "            fmt='', center=0, cmap=\"YlGnBu\")\n",
    "    plt.yticks(rotation=0);\n",
    "    plt.show();"
   ]
  },
  {
   "cell_type": "code",
   "execution_count": 65,
   "metadata": {},
   "outputs": [],
   "source": [
    "# Function to evaluate the performance using AUC as the evaluation metric\n",
    "def evaluation (X_train,y_train, X_test, y_test, model):\n",
    "    model.fit(X_train, y_train)\n",
    "    train_pred = model.predict(X_train)\n",
    "    false_positive_rate, true_positive_rate, thresholds = roc_curve(y_train, train_pred)\n",
    "    roc_auc = auc(false_positive_rate, true_positive_rate)\n",
    "    train_results.append(roc_auc)\n",
    "    y_preds = model.predict(X_test)\n",
    "    false_positive_rate, true_positive_rate, thresholds = roc_curve(y_test, y_preds)\n",
    "    roc_auc = auc(false_positive_rate, true_positive_rate)\n",
    "    test_results.append(roc_auc)"
   ]
  },
  {
   "cell_type": "code",
   "execution_count": 66,
   "metadata": {},
   "outputs": [],
   "source": [
    "# This function helps determine the maximum number of features to be added to the model\n",
    "def max_feature(X_train,y_train, X_test, y_test):\n",
    "    model = RandomForestClassifier(max_features=n)\n",
    "    evaluation(X_train,y_train, X_test, y_test, model)"
   ]
  },
  {
   "cell_type": "code",
   "execution_count": 67,
   "metadata": {},
   "outputs": [],
   "source": [
    "# This function helps determine the maximum number of depth to be defined in the model\n",
    "def max_depth (X_train,y_train, X_test, y_test):\n",
    "    model = RandomForestClassifier(max_depth=n, n_jobs=-1)\n",
    "    evaluation(X_train,y_train, X_test, y_test, model)"
   ]
  },
  {
   "cell_type": "code",
   "execution_count": 68,
   "metadata": {},
   "outputs": [],
   "source": [
    "# This function helps determine the minimum number of leaves to be defined in the model\n",
    "def min_samples_leaf (X_train,y_train, X_test, y_test):\n",
    "    model = RandomForestClassifier(min_samples_leaf=n)\n",
    "    evaluation(X_train,y_train, X_test, y_test, model) "
   ]
  },
  {
   "cell_type": "code",
   "execution_count": 69,
   "metadata": {},
   "outputs": [],
   "source": [
    "# This function helps determine the minimum number of splits to be defined in the model\n",
    "def min_samples_split (X_train,y_train, X_test, y_test):\n",
    "    model = RandomForestClassifier(min_samples_split=n)\n",
    "    evaluation(X_train,y_train, X_test, y_test, model) "
   ]
  },
  {
   "cell_type": "code",
   "execution_count": 70,
   "metadata": {},
   "outputs": [],
   "source": [
    "# Method to help determine the number of trees\n",
    "def n_trees (X_train,y_train, X_test, y_test):\n",
    "    model = RandomForestClassifier(n_estimators=n, n_jobs=-1)\n",
    "    evaluation(X_train,y_train, X_test, y_test, model)"
   ]
  },
  {
   "cell_type": "code",
   "execution_count": 71,
   "metadata": {},
   "outputs": [],
   "source": [
    "# Plot the AUC scores for training and testing sets\n",
    "def plotting (values, text):\n",
    "    line1, = plt.plot(values, train_results, \"b\", label=\"Train AUC\")\n",
    "    line2, = plt.plot(values, test_results, \"r\", label=\"Test AUC\")\n",
    "    plt.legend(handler_map={line1: HandlerLine2D(numpoints=2)})\n",
    "    plt.ylabel('AUC score')\n",
    "    plt.xlabel(text)\n",
    "    plt.show(); "
   ]
  },
  {
   "cell_type": "code",
   "execution_count": 72,
   "metadata": {},
   "outputs": [],
   "source": [
    "# Function to determine the features importance scores\n",
    "def feature_imort(model, X_train, y_train):\n",
    "    feature_importances = model.feature_importances_\n",
    "    features_df = pd.DataFrame({'Features': features, 'Importance Score': feature_importances})\n",
    "    features_df.sort_values('Importance Score', inplace=True, ascending=False)\n",
    "    display(features_df.head(f))\n",
    "    print(\"Number of features {}\".format(f))\n",
    "    scores = cross_val_score(model, X_train, y_train, scoring='roc_auc')\n",
    "    print('CV AUC {}, Average AUC {}'.format(scores, scores.mean()))"
   ]
  },
  {
   "cell_type": "code",
   "execution_count": 73,
   "metadata": {},
   "outputs": [],
   "source": [
    "# Function to perform random forest\n",
    "def random_forest(X_train,y_train, X_test, y_test):\n",
    "    model = RandomForestClassifier(n_estimators=e, max_depth=d, max_features=f) \n",
    "    model.fit(X_train, y_train)\n",
    "    train_pred = model.predict(X_train)\n",
    "    false_positive_rate, true_positive_rate, thresholds = roc_curve(y_train, train_pred)\n",
    "    roc_auc = auc(false_positive_rate, true_positive_rate)\n",
    "    print(\"roc_auc train: \",roc_auc)\n",
    "    y_preds = model.predict(X_test)\n",
    "    false_positive_rate, true_positive_rate, thresholds = roc_curve(y_test, y_preds)\n",
    "    roc_auc = auc(false_positive_rate, true_positive_rate)\n",
    "    print(\"roc_auc test: \",roc_auc)\n",
    "    feature_imort(model, X_train, y_train)\n",
    "    dataframe = create_df(y_test, y_preds, 'f')\n",
    "    return dataframe, y_preds"
   ]
  },
  {
   "cell_type": "markdown",
   "metadata": {},
   "source": [
    "### Synthetic Minority Oversampling (SMOTE) & Random Forest"
   ]
  },
  {
   "cell_type": "code",
   "execution_count": 74,
   "metadata": {},
   "outputs": [],
   "source": [
    "# Split the timestamp from other categorical variables\n",
    "X_sm = X_sm.loc[:, X_sm.columns != 'timestamp']\n",
    "\n",
    "# split dataset into train and test sets\n",
    "X_sm_train, X_sm_test, y_sm_train, y_sm_test = train_test_split(X_sm, y_sm, test_size=0.30, random_state=1)"
   ]
  },
  {
   "cell_type": "code",
   "execution_count": 75,
   "metadata": {
    "scrolled": true
   },
   "outputs": [
    {
     "name": "stdout",
     "output_type": "stream",
     "text": [
      "Original SMOTE oversampled dataset shape: (695870, 243)\n",
      "X train SMOTE oversampled dataset shape: (487109, 243)\n",
      "X test SMOTE oversampled dataset shape: (208761, 243)\n",
      "y train SMOTE oversampled dataset shape: (487109,)\n",
      "y test SMOTE oversampled dataset shape: (208761,)\n"
     ]
    }
   ],
   "source": [
    "# Printing after spliting \n",
    "print_after_split(\"SMOTE oversampled\", X_sm, X_sm_train, X_sm_test, y_sm_train, y_sm_test)"
   ]
  },
  {
   "cell_type": "code",
   "execution_count": 76,
   "metadata": {},
   "outputs": [
    {
     "name": "stdout",
     "output_type": "stream",
     "text": [
      "The baseline or prevalance in y test for SMOTE dataset is: 0.49999281474988144\n"
     ]
    }
   ],
   "source": [
    "print(\"The baseline or prevalance in y test for SMOTE dataset is:\", 1 - y_sm_test.mean())"
   ]
  },
  {
   "cell_type": "code",
   "execution_count": 77,
   "metadata": {},
   "outputs": [],
   "source": [
    "# Determine the maximum number of features, this part takes a very long time to run.\n",
    "#max_features = list(range(1,X_sm_train.shape[1]))\n",
    "#train_results = []\n",
    "#test_results = []\n",
    "#for n in max_features:\n",
    "    #max_feature(X_sm_train,y_sm_train, X_sm_test, y_sm_test)\n",
    "\n",
    "#plotting(max_features, 'max features')"
   ]
  },
  {
   "cell_type": "code",
   "execution_count": 78,
   "metadata": {},
   "outputs": [
    {
     "data": {
      "image/png": "[encoded data removed]",
      "text/plain": [
       "<Figure size 432x288 with 1 Axes>"
      ]
     },
     "metadata": {
      "needs_background": "light"
     },
     "output_type": "display_data"
    }
   ],
   "source": [
    "# Determine the maximum number of estimators (trees)\n",
    "n_estimators = [1, 2, 4, 8, 16, 32, 64, 100, 200]\n",
    "train_results = []\n",
    "test_results = []\n",
    "for n in n_estimators:\n",
    "    n_trees(X_sm_train,y_sm_train, X_sm_test, y_sm_test)\n",
    "\n",
    "plotting(n_estimators,'n_estimators' )"
   ]
  },
  {
   "cell_type": "code",
   "execution_count": 79,
   "metadata": {},
   "outputs": [
    {
     "data": {
      "image/png": "[encoded data removed]",
      "text/plain": [
       "<Figure size 432x288 with 1 Axes>"
      ]
     },
     "metadata": {
      "needs_background": "light"
     },
     "output_type": "display_data"
    }
   ],
   "source": [
    "# Determining the maximum depth\n",
    "max_depths = np.linspace(1, 32, 32, endpoint=True)\n",
    "train_results = []\n",
    "test_results = []\n",
    "for n in max_depths:\n",
    "    max_depth(X_sm_train, y_sm_train, X_sm_test, y_sm_test)\n",
    "\n",
    "plotting(max_depths,'Tree depth' )"
   ]
  },
  {
   "cell_type": "code",
   "execution_count": 80,
   "metadata": {},
   "outputs": [
    {
     "data": {
      "image/png": "[encoded data removed]",
      "text/plain": [
       "<Figure size 432x288 with 1 Axes>"
      ]
     },
     "metadata": {
      "needs_background": "light"
     },
     "output_type": "display_data"
    }
   ],
   "source": [
    "# Determine the minimum number of splits\n",
    "min_samples_splits = np.linspace(0.1, 1.0, 10, endpoint=True)\n",
    "train_results = []\n",
    "test_results = []\n",
    "for n in min_samples_splits:\n",
    "    min_samples_split(X_sm_train,y_sm_train, X_sm_test, y_sm_test)\n",
    "\n",
    "plotting(min_samples_splits,'min samples split' )"
   ]
  },
  {
   "cell_type": "code",
   "execution_count": 81,
   "metadata": {},
   "outputs": [
    {
     "data": {
      "image/png": "[encoded data removed]",
      "text/plain": [
       "<Figure size 432x288 with 1 Axes>"
      ]
     },
     "metadata": {
      "needs_background": "light"
     },
     "output_type": "display_data"
    }
   ],
   "source": [
    "# Determine the minimum number of leafs\n",
    "min_samples_leafs = np.linspace(0.1, 0.5, 5, endpoint=True)\n",
    "train_results = []\n",
    "test_results = []\n",
    "for n in min_samples_leafs:\n",
    "    min_samples_leaf(X_sm_train,y_sm_train, X_sm_test, y_sm_test)\n",
    "\n",
    "plotting(min_samples_leafs,'min samples leaf')"
   ]
  },
  {
   "cell_type": "markdown",
   "metadata": {},
   "source": [
    "Based on the results obtained, the following parameters will be considered:\n",
    "\n",
    "1. max_feature = 15\n",
    "2. n_estimators = 25\n",
    "3. tree_depth = 10\n",
    "3. min_samples_split = 2 (the default value)\n",
    "4. min_samples_leaf = 1 (the default value)"
   ]
  },
  {
   "cell_type": "code",
   "execution_count": 87,
   "metadata": {},
   "outputs": [
    {
     "name": "stdout",
     "output_type": "stream",
     "text": [
      "roc_auc train:  0.9835293263751835\n",
      "roc_auc test:  0.9830811895622067\n"
     ]
    },
    {
     "data": {
      "text/html": [
       "<div>\n",
       "<style scoped>\n",
       "    .dataframe tbody tr th:only-of-type {\n",
       "        vertical-align: middle;\n",
       "    }\n",
       "\n",
       "    .dataframe tbody tr th {\n",
       "        vertical-align: top;\n",
       "    }\n",
       "\n",
       "    .dataframe thead th {\n",
       "        text-align: right;\n",
       "    }\n",
       "</style>\n",
       "<table border=\"1\" class=\"dataframe\">\n",
       "  <thead>\n",
       "    <tr style=\"text-align: right;\">\n",
       "      <th></th>\n",
       "      <th>Features</th>\n",
       "      <th>Importance Score</th>\n",
       "    </tr>\n",
       "  </thead>\n",
       "  <tbody>\n",
       "    <tr>\n",
       "      <th>113</th>\n",
       "      <td>destinationServiceType_batteryService</td>\n",
       "      <td>0.078009</td>\n",
       "    </tr>\n",
       "    <tr>\n",
       "      <th>227</th>\n",
       "      <td>accessedNodeType_basic/number</td>\n",
       "      <td>0.076756</td>\n",
       "    </tr>\n",
       "    <tr>\n",
       "      <th>11</th>\n",
       "      <td>sourceAddress_heatingcontrol1</td>\n",
       "      <td>0.067247</td>\n",
       "    </tr>\n",
       "    <tr>\n",
       "      <th>90</th>\n",
       "      <td>sourceType_thermostat</td>\n",
       "      <td>0.061175</td>\n",
       "    </tr>\n",
       "    <tr>\n",
       "      <th>178</th>\n",
       "      <td>accessedNodeAddress_movement1</td>\n",
       "      <td>0.048838</td>\n",
       "    </tr>\n",
       "    <tr>\n",
       "      <th>117</th>\n",
       "      <td>destinationServiceType_sensorService</td>\n",
       "      <td>0.041588</td>\n",
       "    </tr>\n",
       "    <tr>\n",
       "      <th>123</th>\n",
       "      <td>destinationLocation_BedroomChildren</td>\n",
       "      <td>0.040281</td>\n",
       "    </tr>\n",
       "    <tr>\n",
       "      <th>228</th>\n",
       "      <td>accessedNodeType_basic/text</td>\n",
       "      <td>0.039463</td>\n",
       "    </tr>\n",
       "    <tr>\n",
       "      <th>225</th>\n",
       "      <td>accessedNodeAddress_washingmachine3</td>\n",
       "      <td>0.036129</td>\n",
       "    </tr>\n",
       "    <tr>\n",
       "      <th>234</th>\n",
       "      <td>accessedNodeType_sensorService</td>\n",
       "      <td>0.035943</td>\n",
       "    </tr>\n",
       "    <tr>\n",
       "      <th>13</th>\n",
       "      <td>sourceAddress_heatingcontrol3</td>\n",
       "      <td>0.031830</td>\n",
       "    </tr>\n",
       "    <tr>\n",
       "      <th>96</th>\n",
       "      <td>sourceLocation_Dinningroom</td>\n",
       "      <td>0.026185</td>\n",
       "    </tr>\n",
       "    <tr>\n",
       "      <th>86</th>\n",
       "      <td>sourceType_lightControler</td>\n",
       "      <td>0.023700</td>\n",
       "    </tr>\n",
       "    <tr>\n",
       "      <th>150</th>\n",
       "      <td>accessedNodeAddress_doorlock3</td>\n",
       "      <td>0.023092</td>\n",
       "    </tr>\n",
       "    <tr>\n",
       "      <th>115</th>\n",
       "      <td>destinationServiceType_lightControler</td>\n",
       "      <td>0.022844</td>\n",
       "    </tr>\n",
       "  </tbody>\n",
       "</table>\n",
       "</div>"
      ],
      "text/plain": [
       "                                  Features  Importance Score\n",
       "113  destinationServiceType_batteryService          0.078009\n",
       "227          accessedNodeType_basic/number          0.076756\n",
       "11           sourceAddress_heatingcontrol1          0.067247\n",
       "90                   sourceType_thermostat          0.061175\n",
       "178          accessedNodeAddress_movement1          0.048838\n",
       "117   destinationServiceType_sensorService          0.041588\n",
       "123    destinationLocation_BedroomChildren          0.040281\n",
       "228            accessedNodeType_basic/text          0.039463\n",
       "225    accessedNodeAddress_washingmachine3          0.036129\n",
       "234         accessedNodeType_sensorService          0.035943\n",
       "13           sourceAddress_heatingcontrol3          0.031830\n",
       "96              sourceLocation_Dinningroom          0.026185\n",
       "86               sourceType_lightControler          0.023700\n",
       "150          accessedNodeAddress_doorlock3          0.023092\n",
       "115  destinationServiceType_lightControler          0.022844"
      ]
     },
     "metadata": {},
     "output_type": "display_data"
    },
    {
     "name": "stdout",
     "output_type": "stream",
     "text": [
      "Number of features 15\n",
      "CV AUC [0.99373936 0.99359864 0.99413613 0.99385678 0.99586375], Average AUC 0.9942389319885603\n"
     ]
    },
    {
     "data": {
      "text/html": [
       "<div>\n",
       "<style scoped>\n",
       "    .dataframe tbody tr th:only-of-type {\n",
       "        vertical-align: middle;\n",
       "    }\n",
       "\n",
       "    .dataframe tbody tr th {\n",
       "        vertical-align: top;\n",
       "    }\n",
       "\n",
       "    .dataframe thead th {\n",
       "        text-align: right;\n",
       "    }\n",
       "</style>\n",
       "<table border=\"1\" class=\"dataframe\">\n",
       "  <thead>\n",
       "    <tr style=\"text-align: right;\">\n",
       "      <th></th>\n",
       "      <th>15 Features</th>\n",
       "    </tr>\n",
       "  </thead>\n",
       "  <tbody>\n",
       "    <tr>\n",
       "      <th>Accuracy</th>\n",
       "      <td>0.983081</td>\n",
       "    </tr>\n",
       "    <tr>\n",
       "      <th>Missclassification</th>\n",
       "      <td>0.016919</td>\n",
       "    </tr>\n",
       "    <tr>\n",
       "      <th>TP</th>\n",
       "      <td>102191.000000</td>\n",
       "    </tr>\n",
       "    <tr>\n",
       "      <th>TN</th>\n",
       "      <td>103038.000000</td>\n",
       "    </tr>\n",
       "    <tr>\n",
       "      <th>FP</th>\n",
       "      <td>1341.000000</td>\n",
       "    </tr>\n",
       "    <tr>\n",
       "      <th>FN</th>\n",
       "      <td>2191.000000</td>\n",
       "    </tr>\n",
       "    <tr>\n",
       "      <th>Precision 0</th>\n",
       "      <td>0.979179</td>\n",
       "    </tr>\n",
       "    <tr>\n",
       "      <th>Precision 1</th>\n",
       "      <td>0.987047</td>\n",
       "    </tr>\n",
       "    <tr>\n",
       "      <th>Recall 0</th>\n",
       "      <td>0.987153</td>\n",
       "    </tr>\n",
       "    <tr>\n",
       "      <th>Recall 1</th>\n",
       "      <td>0.979010</td>\n",
       "    </tr>\n",
       "    <tr>\n",
       "      <th>F1-score 0</th>\n",
       "      <td>0.983149</td>\n",
       "    </tr>\n",
       "    <tr>\n",
       "      <th>F1-score 1</th>\n",
       "      <td>0.983012</td>\n",
       "    </tr>\n",
       "  </tbody>\n",
       "</table>\n",
       "</div>"
      ],
      "text/plain": [
       "                     15 Features \n",
       "Accuracy                 0.983081\n",
       "Missclassification       0.016919\n",
       "TP                  102191.000000\n",
       "TN                  103038.000000\n",
       "FP                    1341.000000\n",
       "FN                    2191.000000\n",
       "Precision 0              0.979179\n",
       "Precision 1              0.987047\n",
       "Recall 0                 0.987153\n",
       "Recall 1                 0.979010\n",
       "F1-score 0               0.983149\n",
       "F1-score 1               0.983012"
      ]
     },
     "execution_count": 87,
     "metadata": {},
     "output_type": "execute_result"
    }
   ],
   "source": [
    "# Running the algorithm based on specified parameters\n",
    "df_f = pd.DataFrame(index=['Accuracy', 'Missclassification', 'TP', 'TN', 'FP', 'FN', 'Precision 0',\\\n",
    "                                    'Precision 1', 'Recall 0', 'Recall 1','F1-score 0', 'F1-score 1'])\n",
    "e, f, d = 25, 15, 10\n",
    "\n",
    "features = X_sm_train.columns\n",
    "df_sm_fresult, y_preds = random_forest(X_sm_train,y_sm_train, X_sm_test, y_sm_test)\n",
    "df_sm_fresult"
   ]
  },
  {
   "cell_type": "code",
   "execution_count": 88,
   "metadata": {},
   "outputs": [
    {
     "data": {
      "image/png": "[encoded data removed]",
      "text/plain": [
       "<Figure size 432x288 with 2 Axes>"
      ]
     },
     "metadata": {
      "needs_background": "light"
     },
     "output_type": "display_data"
    }
   ],
   "source": [
    "# Plot confusion matrix\n",
    "confusion_plot(y_preds, y_sm_test, 'random forest')"
   ]
  },
  {
   "cell_type": "markdown",
   "metadata": {},
   "source": [
    "- GA Final Project - Predicting Cybe-Attacks in IoT Environments\n",
    "- Work done by Arwa Alamoudi - 11/5/2020"
   ]
  }
 ],
 "metadata": {
  "kernelspec": {
   "display_name": "Python 3",
   "language": "python",
   "name": "python3"
  },
  "language_info": {
   "codemirror_mode": {
    "name": "ipython",
    "version": 3
   },
   "file_extension": ".py",
   "mimetype": "text/x-python",
   "name": "python",
   "nbconvert_exporter": "python",
   "pygments_lexer": "ipython3",
   "version": "3.7.6"
  }
 },
 "nbformat": 4,
 "nbformat_minor": 4
}
